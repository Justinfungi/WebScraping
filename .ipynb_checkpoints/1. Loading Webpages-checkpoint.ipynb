{
 "cells": [
  {
   "cell_type": "markdown",
   "id": "8ffe3265",
   "metadata": {
    "ExecuteTime": {
     "end_time": "2022-08-24T06:28:38.453388Z",
     "start_time": "2022-08-24T06:28:38.447692Z"
    },
    "heading_collapsed": true
   },
   "source": [
    "# Loading lib"
   ]
  },
  {
   "cell_type": "code",
   "execution_count": null,
   "id": "3aa78d3f",
   "metadata": {
    "ExecuteTime": {
     "end_time": "2022-08-27T08:23:19.290081Z",
     "start_time": "2022-08-27T08:23:19.184171Z"
    },
    "hidden": true
   },
   "outputs": [],
   "source": [
    "import requests\n",
    "from bs4 import BeautifulSoup as bs\n",
    "from lxml import etree\n",
    "from urllib import request\n",
    "import re"
   ]
  },
  {
   "cell_type": "markdown",
   "id": "df21fe7a",
   "metadata": {
    "ExecuteTime": {
     "end_time": "2022-08-27T08:23:19.293321Z",
     "start_time": "2022-08-27T08:23:19.291128Z"
    },
    "hidden": true
   },
   "source": [
    "headers = {\n",
    "    \"User-Agent\": \"Mozilla/5.0 (Windows NT 10.0; Win64; x64) AppleWebKit/537.36 (KHTML, like Gecko) Chrome/71.0.3578.98 Safari/537.36\"\n",
    "}"
   ]
  },
  {
   "cell_type": "markdown",
   "id": "1653348e",
   "metadata": {
    "ExecuteTime": {
     "end_time": "2022-08-24T02:14:34.355883Z",
     "start_time": "2022-08-24T02:14:34.350725Z"
    },
    "heading_collapsed": true
   },
   "source": [
    "# Read Local html"
   ]
  },
  {
   "cell_type": "code",
   "execution_count": null,
   "id": "f2d98664",
   "metadata": {
    "ExecuteTime": {
     "end_time": "2022-08-27T08:23:19.300542Z",
     "start_time": "2022-08-27T08:23:19.294575Z"
    },
    "hidden": true
   },
   "outputs": [],
   "source": [
    "with open('Source Html/home.html','r') as html_file:\n",
    "    local = html_file.read()\n",
    "    "
   ]
  },
  {
   "cell_type": "markdown",
   "id": "e1f879a5",
   "metadata": {
    "ExecuteTime": {
     "end_time": "2022-08-24T02:21:20.684788Z",
     "start_time": "2022-08-24T02:21:20.678061Z"
    },
    "heading_collapsed": true
   },
   "source": [
    "# Read Online html"
   ]
  },
  {
   "cell_type": "code",
   "execution_count": null,
   "id": "137ea7f9",
   "metadata": {
    "ExecuteTime": {
     "end_time": "2022-08-27T08:23:19.635777Z",
     "start_time": "2022-08-27T08:23:19.302711Z"
    },
    "hidden": true,
    "scrolled": true
   },
   "outputs": [],
   "source": [
    "link2 = 'https://www.huya.com/g/2168'\n",
    "huya_text = requests.get(link2).text\n",
    "huya_text\n",
    "# response [200] is successful connection"
   ]
  },
  {
   "cell_type": "code",
   "execution_count": null,
   "id": "526d20f7",
   "metadata": {
    "ExecuteTime": {
     "end_time": "2022-08-27T08:25:20.424186Z",
     "start_time": "2022-08-27T08:23:19.636719Z"
    },
    "hidden": true
   },
   "outputs": [],
   "source": [
    "link3 = 'https://en.wikipedia.org/wiki/Artificial_intelligence'\n",
    "ai_article = requests.get(link3)\n",
    "ai_article_text=ai_article.text\n",
    "ai_article_text\n",
    "# rbesponse [200] is successful connection"
   ]
  },
  {
   "cell_type": "code",
   "execution_count": null,
   "id": "39f5cdf7",
   "metadata": {
    "ExecuteTime": {
     "end_time": "2022-08-27T08:25:20.425427Z",
     "start_time": "2022-08-27T08:25:20.425417Z"
    }
   },
   "outputs": [],
   "source": [
    "link4 = 'https://www.blogtyrant.com/long-vs-short-blog-posts/'\n",
    "blog = requests.get(link4)\n",
    "blog_text=blog.text\n",
    "blog_text\n",
    "# rbesponse [200] is successful connection"
   ]
  },
  {
   "cell_type": "code",
   "execution_count": null,
   "id": "ad5b21b7",
   "metadata": {},
   "outputs": [],
   "source": []
  }
 ],
 "metadata": {
  "kernelspec": {
   "display_name": "Python 3 (ipykernel)",
   "language": "python",
   "name": "python3"
  },
  "language_info": {
   "codemirror_mode": {
    "name": "ipython",
    "version": 3
   },
   "file_extension": ".py",
   "mimetype": "text/x-python",
   "name": "python",
   "nbconvert_exporter": "python",
   "pygments_lexer": "ipython3",
   "version": "3.9.7"
  },
  "toc": {
   "base_numbering": 1,
   "nav_menu": {},
   "number_sections": true,
   "sideBar": true,
   "skip_h1_title": false,
   "title_cell": "Table of Contents",
   "title_sidebar": "Contents",
   "toc_cell": false,
   "toc_position": {},
   "toc_section_display": true,
   "toc_window_display": false
  }
 },
 "nbformat": 4,
 "nbformat_minor": 5
}
