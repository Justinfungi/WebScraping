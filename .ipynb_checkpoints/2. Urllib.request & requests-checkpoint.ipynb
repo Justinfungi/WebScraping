{
 "cells": [
  {
   "cell_type": "raw",
   "id": "d3f09eeb",
   "metadata": {},
   "source": [
    "使用urllin内的request模块是，返回体获取有效信息和请求体的拼接需要decode和encode后再进行装载。进行http请求时需先构造get或者post请求再进行调用。header等头文件也需先进行构造。\n",
    "\n",
    "\n",
    "requests库中进一步封装了request模块，http请求时只需要调用对应的requests.method方法，就可以很方便的使用。\n",
    "\n",
    "\n",
    "总体来说，requests比urllib.request方法更方便。\n",
    "\n",
    "\n",
    "但如模拟用户登陆等情况下，使用urllib自定义定制http请求也是必不可少的\n"
   ]
  },
  {
   "cell_type": "code",
   "execution_count": null,
   "id": "a1c17f32",
   "metadata": {},
   "outputs": [],
   "source": [
    "from urllib import request"
   ]
  },
  {
   "cell_type": "code",
   "execution_count": null,
   "id": "d2f1d5e5",
   "metadata": {},
   "outputs": [],
   "source": [
    "url = \"https//www.baidu.com\""
   ]
  },
  {
   "cell_type": "code",
   "execution_count": null,
   "id": "8efce166",
   "metadata": {},
   "outputs": [],
   "source": []
  },
  {
   "cell_type": "code",
   "execution_count": null,
   "id": "d923001a",
   "metadata": {},
   "outputs": [],
   "source": []
  },
  {
   "cell_type": "code",
   "execution_count": null,
   "id": "3569a67f",
   "metadata": {},
   "outputs": [],
   "source": []
  },
  {
   "cell_type": "code",
   "execution_count": null,
   "id": "fe227330",
   "metadata": {},
   "outputs": [],
   "source": []
  },
  {
   "cell_type": "code",
   "execution_count": null,
   "id": "ec9ecd6b",
   "metadata": {},
   "outputs": [],
   "source": []
  },
  {
   "cell_type": "code",
   "execution_count": null,
   "id": "a1482784",
   "metadata": {},
   "outputs": [],
   "source": []
  },
  {
   "cell_type": "code",
   "execution_count": null,
   "id": "4ac1b045",
   "metadata": {},
   "outputs": [],
   "source": []
  },
  {
   "cell_type": "code",
   "execution_count": null,
   "id": "b2fcd68b",
   "metadata": {},
   "outputs": [],
   "source": []
  }
 ],
 "metadata": {
  "kernelspec": {
   "display_name": "Python 3 (ipykernel)",
   "language": "python",
   "name": "python3"
  },
  "language_info": {
   "codemirror_mode": {
    "name": "ipython",
    "version": 3
   },
   "file_extension": ".py",
   "mimetype": "text/x-python",
   "name": "python",
   "nbconvert_exporter": "python",
   "pygments_lexer": "ipython3",
   "version": "3.9.7"
  },
  "toc": {
   "base_numbering": 1,
   "nav_menu": {},
   "number_sections": true,
   "sideBar": true,
   "skip_h1_title": false,
   "title_cell": "Table of Contents",
   "title_sidebar": "Contents",
   "toc_cell": false,
   "toc_position": {},
   "toc_section_display": true,
   "toc_window_display": false
  }
 },
 "nbformat": 4,
 "nbformat_minor": 5
}
