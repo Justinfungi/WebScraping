{
 "cells": [
  {
   "cell_type": "code",
   "execution_count": 1,
   "id": "31d1d6da",
   "metadata": {
    "ExecuteTime": {
     "end_time": "2022-09-01T01:06:26.790246Z",
     "start_time": "2022-09-01T01:06:26.745018Z"
    }
   },
   "outputs": [],
   "source": [
    "import requests"
   ]
  },
  {
   "cell_type": "markdown",
   "id": "0255a8c4",
   "metadata": {
    "ExecuteTime": {
     "end_time": "2022-09-01T01:06:41.921809Z",
     "start_time": "2022-09-01T01:06:41.919849Z"
    },
    "heading_collapsed": true
   },
   "source": [
    "# Basic"
   ]
  },
  {
   "cell_type": "code",
   "execution_count": 12,
   "id": "2e217c12",
   "metadata": {
    "ExecuteTime": {
     "end_time": "2022-09-01T01:12:29.807776Z",
     "start_time": "2022-09-01T01:12:29.757033Z"
    },
    "hidden": true,
    "scrolled": true
   },
   "outputs": [
    {
     "name": "stdout",
     "output_type": "stream",
     "text": [
      "<!DOCTYPE html>\r\n",
      "<!--STATUS OK--><html> <head><meta http-equiv=content-type content=text/html;charset=utf-8><meta http-equiv=X-UA-Compatible content=IE=Edge><meta content=always name=referrer><link rel=stylesheet type=text/css href=http://s1.bdstatic.com/r/www/cache/bdorz/baidu.min.css><title>百度一下，你就知道</title></head> <body link=#0000cc> <div id=wrapper> <div id=head> <div class=head_wrapper> <div class=s_form> <div class=s_form_wrapper> <div id=lg> <img hidefocus=true src=//www.baidu.com/img/bd_logo1.png width=270 height=129> </div> <form id=form name=f action=//www.baidu.com/s class=fm> <input type=hidden name=bdorz_come value=1> <input type=hidden name=ie value=utf-8> <input type=hidden name=f value=8> <input type=hidden name=rsv_bp value=1> <input type=hidden name=rsv_idx value=1> <input type=hidden name=tn value=baidu><span class=\"bg s_ipt_wr\"><input id=kw name=wd class=s_ipt value maxlength=255 autocomplete=off autofocus></span><span class=\"bg s_btn_wr\"><input type=submit id=su value=百度一下 class=\"bg s_btn\"></span> </form> </div> </div> <div id=u1> <a href=http://news.baidu.com name=tj_trnews class=mnav>新闻</a> <a href=http://www.hao123.com name=tj_trhao123 class=mnav>hao123</a> <a href=http://map.baidu.com name=tj_trmap class=mnav>地图</a> <a href=http://v.baidu.com name=tj_trvideo class=mnav>视频</a> <a href=http://tieba.baidu.com name=tj_trtieba class=mnav>贴吧</a> <noscript> <a href=http://www.baidu.com/bdorz/login.gif?login&amp;tpl=mn&amp;u=http%3A%2F%2Fwww.baidu.com%2f%3fbdorz_come%3d1 name=tj_login class=lb>登录</a> </noscript> <script>document.write('<a href=\"http://www.baidu.com/bdorz/login.gif?login&tpl=mn&u='+ encodeURIComponent(window.location.href+ (window.location.search === \"\" ? \"?\" : \"&\")+ \"bdorz_come=1\")+ '\" name=\"tj_login\" class=\"lb\">登录</a>');</script> <a href=//www.baidu.com/more/ name=tj_briicon class=bri style=\"display: block;\">更多产品</a> </div> </div> </div> <div id=ftCon> <div id=ftConw> <p id=lh> <a href=http://home.baidu.com>关于百度</a> <a href=http://ir.baidu.com>About Baidu</a> </p> <p id=cp>&copy;2017&nbsp;Baidu&nbsp;<a href=http://www.baidu.com/duty/>使用百度前必读</a>&nbsp; <a href=http://jianyi.baidu.com/ class=cp-feedback>意见反馈</a>&nbsp;京ICP证030173号&nbsp; <img src=//www.baidu.com/img/gs.gif> </p> </div> </div> </div> </body> </html>\r\n",
      "\n",
      "http://www.baidu.com/\n",
      "200\n",
      "{'Connection': 'close', 'Transfer-Encoding': 'chunked', 'Cache-Control': 'private, no-cache, no-store, proxy-revalidate, no-transform', 'Content-Encoding': 'gzip', 'Content-Type': 'text/html', 'Date': 'Thu, 01 Sep 2022 01:12:29 GMT', 'Last-Modified': 'Mon, 23 Jan 2017 13:28:11 GMT', 'Pragma': 'no-cache', 'Server': 'bfe/1.0.8.18', 'Set-Cookie': 'BDORZ=27315; max-age=86400; domain=.baidu.com; path=/'}\n"
     ]
    }
   ],
   "source": [
    "url = \"http://www.baidu.com/\"\n",
    "\n",
    "#response type\n",
    "response =requests.get(url=url)\n",
    "\n",
    "response.encoding ='utf-8'\n",
    "\n",
    "# byte form\n",
    "print(response.text)\n",
    "\n",
    "print(response.url)\n",
    "\n",
    "print(response.status_code)\n",
    "\n",
    "print(response.headers)"
   ]
  },
  {
   "cell_type": "markdown",
   "id": "440b80bb",
   "metadata": {
    "heading_collapsed": true
   },
   "source": [
    "# get"
   ]
  },
  {
   "cell_type": "code",
   "execution_count": 17,
   "id": "1bc8ca72",
   "metadata": {
    "ExecuteTime": {
     "end_time": "2022-09-01T01:20:24.103674Z",
     "start_time": "2022-09-01T01:20:23.789377Z"
    },
    "hidden": true
   },
   "outputs": [
    {
     "name": "stdout",
     "output_type": "stream",
     "text": [
      "<!DOCTYPE html>\n",
      "<html lang=\"zh-CN\">\n",
      "<head>\n",
      "    <meta charset=\"utf-8\">\n",
      "    <title>百度安全验证</title>\n",
      "    <meta http-equiv=\"Content-Type\" content=\"text/html; charset=utf-8\">\n",
      "    <meta name=\"apple-mobile-web-app-capable\" content=\"yes\">\n",
      "    <meta name=\"apple-mobile-web-app-status-bar-style\" content=\"black\">\n",
      "    <meta name=\"viewport\" content=\"width=device-width, user-scalable=no, initial-scale=1.0, minimum-scale=1.0, maximum-scale=1.0\">\n",
      "    <meta name=\"format-detection\" content=\"telephone=no, email=no\">\n",
      "    <link rel=\"shortcut icon\" href=\"https://www.baidu.com/favicon.ico\" type=\"image/x-icon\">\n",
      "    <link rel=\"icon\" sizes=\"any\" mask href=\"https://www.baidu.com/img/baidu.svg\">\n",
      "    <meta http-equiv=\"X-UA-Compatible\" content=\"IE=Edge\">\n",
      "    <meta http-equiv=\"Content-Security-Policy\" content=\"upgrade-insecure-requests\">\n",
      "    <link rel=\"stylesheet\" href=\"https://ppui-static-wap.cdn.bcebos.com/static/touch/css/api/mkdjump_0635445.css\" />\n",
      "</head>\n",
      "<body>\n",
      "    <div class=\"timeout hide\">\n",
      "        <div class=\"timeout-img\"></div>\n",
      "        <div class=\"timeout-title\">网络不给力，请稍后重试</div>\n",
      "        <button type=\"button\" class=\"timeout-button\">返回首页</button>\n",
      "    </div>\n",
      "    <div class=\"timeout-feedback hide\">\n",
      "        <div class=\"timeout-feedback-icon\"></div>\n",
      "        <p class=\"timeout-feedback-title\">问题反馈</p>\n",
      "    </div>\n",
      "\n",
      "<script src=\"https://wappass.baidu.com/static/machine/js/api/mkd.js\"></script>\n",
      "<script src=\"https://ppui-static-wap.cdn.bcebos.com/static/touch/js/mkdjump_eac1ee5.js\"></script>\n",
      "</body>\n",
      "</html>\n"
     ]
    }
   ],
   "source": [
    "headers = {\n",
    "    \"User-Agent\": \"Mozilla/5.0 (Windows NT 10.0; Win64; x64) AppleWebKit/537.36 (KHTML, like Gecko) Chrome/71.0.3578.98 Safari/537.36\"\n",
    "}\n",
    "url = \"http://www.baidu.com/s\"\n",
    "data = {'wd':'北京'}\n",
    "\n",
    "\n",
    "#response type\n",
    "response =requests.get(url=url,params=data, headers= headers)\n",
    "\n",
    "response.encoding ='utf-8'\n",
    "\n",
    "# byte form\n",
    "print(response.text)"
   ]
  },
  {
   "cell_type": "markdown",
   "id": "4adf572e",
   "metadata": {
    "heading_collapsed": true
   },
   "source": [
    "# Post"
   ]
  },
  {
   "cell_type": "code",
   "execution_count": 29,
   "id": "24f2a740",
   "metadata": {
    "ExecuteTime": {
     "end_time": "2022-09-01T01:29:09.889784Z",
     "start_time": "2022-09-01T01:29:09.141378Z"
    },
    "hidden": true
   },
   "outputs": [
    {
     "data": {
      "text/plain": [
       "{'errno': 0,\n",
       " 'data': [{'k': 'eye', 'v': 'n. 眼睛; 视力; 眼状物; 风纪扣扣眼 vt. 定睛地看; 注视; 审视; 细看'},\n",
       "  {'k': 'Eye', 'v': '[人名] 艾; [地名] [英国] 艾伊'},\n",
       "  {'k': 'EYE', 'v': 'abbr. European Year of the Environment 欧洲环境年; Iwas'},\n",
       "  {'k': 'eyed', 'v': 'adj. 有眼的'},\n",
       "  {'k': 'eyer', 'v': 'n. 注视的人'}]}"
      ]
     },
     "execution_count": 29,
     "metadata": {},
     "output_type": "execute_result"
    }
   ],
   "source": [
    "headers = {\n",
    "    \"User-Agent\": \"Mozilla/5.0 (Windows NT 10.0; Win64; x64) AppleWebKit/537.36 (KHTML, like Gecko) Chrome/71.0.3578.98 Safari/537.36\"\n",
    "}\n",
    "url = \"https://fanyi.baidu.com/sug\"\n",
    "data = {'kw':'eye'}\n",
    "\n",
    "\n",
    "#response type\n",
    "response =requests.post(url=url,data=data, headers= headers)\n",
    "content=response.text\n",
    "\n",
    "import json\n",
    "\n",
    "obj=json.loads(content)\n",
    "obj"
   ]
  },
  {
   "cell_type": "markdown",
   "id": "24c2fb22",
   "metadata": {
    "heading_collapsed": true
   },
   "source": [
    "# Proxy"
   ]
  },
  {
   "cell_type": "code",
   "execution_count": null,
   "id": "f7813ee2",
   "metadata": {
    "ExecuteTime": {
     "start_time": "2022-09-01T01:33:53.891Z"
    },
    "hidden": true
   },
   "outputs": [],
   "source": [
    "headers = {\n",
    "    \"User-Agent\": \"Mozilla/5.0 (Windows NT 10.0; Win64; x64) AppleWebKit/537.36 (KHTML, like Gecko) Chrome/71.0.3578.98 Safari/537.36\"\n",
    "}\n",
    "url = \"http://www.baidu.com/s\"\n",
    "data = {'wd':'北京'}\n",
    "\n",
    "proxy={'http':'103.117.101.182:8888'}\n",
    "\n",
    "#response type\n",
    "response =requests.get(url=url,params=data, headers= headers, proxies=proxy)\n",
    "\n",
    "response.encoding ='utf-8'\n",
    "\n",
    "# byte form\n",
    "print(response.text)"
   ]
  },
  {
   "cell_type": "markdown",
   "id": "c534071a",
   "metadata": {
    "heading_collapsed": true
   },
   "source": [
    "#"
   ]
  },
  {
   "cell_type": "markdown",
   "id": "e663ad35",
   "metadata": {
    "heading_collapsed": true
   },
   "source": [
    "#"
   ]
  },
  {
   "cell_type": "markdown",
   "id": "a8a11abd",
   "metadata": {
    "heading_collapsed": true
   },
   "source": [
    "#"
   ]
  }
 ],
 "metadata": {
  "kernelspec": {
   "display_name": "Python 3 (ipykernel)",
   "language": "python",
   "name": "python3"
  },
  "language_info": {
   "codemirror_mode": {
    "name": "ipython",
    "version": 3
   },
   "file_extension": ".py",
   "mimetype": "text/x-python",
   "name": "python",
   "nbconvert_exporter": "python",
   "pygments_lexer": "ipython3",
   "version": "3.9.12"
  },
  "toc": {
   "base_numbering": 1,
   "nav_menu": {},
   "number_sections": true,
   "sideBar": true,
   "skip_h1_title": false,
   "title_cell": "Table of Contents",
   "title_sidebar": "Contents",
   "toc_cell": false,
   "toc_position": {},
   "toc_section_display": true,
   "toc_window_display": false
  }
 },
 "nbformat": 4,
 "nbformat_minor": 5
}
