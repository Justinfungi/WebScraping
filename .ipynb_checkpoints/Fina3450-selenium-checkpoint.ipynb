{
 "cells": [
  {
   "cell_type": "code",
   "execution_count": 3,
   "id": "e3c7dcb9",
   "metadata": {
    "ExecuteTime": {
     "end_time": "2023-03-23T08:16:19.662476Z",
     "start_time": "2023-03-23T08:16:19.659928Z"
    }
   },
   "outputs": [],
   "source": [
    "from selenium import webdriver\n",
    "from selenium . webdriver . chrome .service import Service\n",
    "from selenium . webdriver . common. keys import Keys\n",
    "from selenium . webdriver . common. by import By\n",
    "import os"
   ]
  },
  {
   "cell_type": "code",
   "execution_count": 10,
   "id": "0ce2cf3a",
   "metadata": {
    "ExecuteTime": {
     "end_time": "2023-03-23T08:41:33.004350Z",
     "start_time": "2023-03-23T08:41:30.824772Z"
    }
   },
   "outputs": [
    {
     "name": "stderr",
     "output_type": "stream",
     "text": [
      "/tmp/ipykernel_86733/3864744578.py:1: DeprecationWarning: executable_path has been deprecated, please pass in a Service object\n",
      "  driver= webdriver.Chrome('/home/fish/Documents/WebScraping/driver/chromedriver_ubuntu119')\n"
     ]
    }
   ],
   "source": [
    "driver= webdriver.Chrome('/home/fish/Documents/WebScraping/driver/chromedriver_ubuntu119')\n",
    "driver. get ( \"https://www.google.com\")"
   ]
  },
  {
   "cell_type": "code",
   "execution_count": 11,
   "id": "3f706606",
   "metadata": {
    "ExecuteTime": {
     "end_time": "2023-03-23T08:41:57.149141Z",
     "start_time": "2023-03-23T08:41:57.132700Z"
    }
   },
   "outputs": [],
   "source": [
    "e = driver.find_element(By.XPATH, \"/html/body/div[1]/div[3]/form/div[1]/div[1]/div[1]/div/div[2]/input\")"
   ]
  },
  {
   "cell_type": "code",
   "execution_count": 15,
   "id": "0ce728b2",
   "metadata": {
    "ExecuteTime": {
     "end_time": "2023-03-23T08:42:50.409907Z",
     "start_time": "2023-03-23T08:42:48.188176Z"
    }
   },
   "outputs": [],
   "source": [
    "e.send_keys(\"NLP trend\")\n",
    "e.send_keys(Keys.ENTER)"
   ]
  },
  {
   "cell_type": "code",
   "execution_count": 26,
   "id": "8ed84720",
   "metadata": {
    "ExecuteTime": {
     "end_time": "2023-03-23T08:48:01.071982Z",
     "start_time": "2023-03-23T08:47:58.347789Z"
    }
   },
   "outputs": [],
   "source": [
    "e = driver.find_element(By.TAG_NAME, \"button\").click()"
   ]
  }
 ],
 "metadata": {
  "kernelspec": {
   "display_name": "Python 3 (ipykernel)",
   "language": "python",
   "name": "python3"
  },
  "language_info": {
   "codemirror_mode": {
    "name": "ipython",
    "version": 3
   },
   "file_extension": ".py",
   "mimetype": "text/x-python",
   "name": "python",
   "nbconvert_exporter": "python",
   "pygments_lexer": "ipython3",
   "version": "3.9.12"
  },
  "toc": {
   "base_numbering": 1,
   "nav_menu": {},
   "number_sections": true,
   "sideBar": true,
   "skip_h1_title": false,
   "title_cell": "Table of Contents",
   "title_sidebar": "Contents",
   "toc_cell": false,
   "toc_position": {},
   "toc_section_display": true,
   "toc_window_display": false
  }
 },
 "nbformat": 4,
 "nbformat_minor": 5
}
