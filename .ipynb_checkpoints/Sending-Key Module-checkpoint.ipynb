{
 "cells": [
  {
   "cell_type": "code",
   "execution_count": 5,
   "id": "2091af51",
   "metadata": {
    "ExecuteTime": {
     "end_time": "2022-07-02T16:38:21.954631Z",
     "start_time": "2022-07-02T16:38:21.951431Z"
    }
   },
   "outputs": [],
   "source": [
    "#imports here\n",
    "from selenium import webdriver\n",
    "from selenium.webdriver.common.keys import Keys\n",
    "from selenium.webdriver.support import expected_conditions as EC\n",
    "from selenium.webdriver.common.by import By\n",
    "from selenium.webdriver.support.wait import WebDriverWait"
   ]
  },
  {
   "cell_type": "raw",
   "id": "9a3ecddf",
   "metadata": {},
   "source": [
    "ID = \"id\"\n",
    "NAME = \"name\"\n",
    "XPATH = \"xpath\"\n",
    "LINK_TEXT = \"link text\"\n",
    "PARTIAL_LINK_TEXT = \"partial link text\"\n",
    "TAG_NAME = \"tag name\"\n",
    "CLASS_NAME = \"class name\"\n",
    "CSS_SELECTOR = \"css selector\"\n",
    "\n",
    "find_element(By.ID, \"id\")\n",
    "find_element(By.NAME, \"name\")\n",
    "find_element(By.XPATH, \"xpath\")\n",
    "find_element(By.LINK_TEXT, \"link text\")\n",
    "find_element(By.PARTIAL_LINK_TEXT, \"partial link text\")\n",
    "find_element(By.TAG_NAME, \"tag name\")\n",
    "find_element(By.CLASS_NAME, \"class name\")\n",
    "find_element(By.CSS_SELECTOR, \"css selector\")"
   ]
  },
  {
   "cell_type": "code",
   "execution_count": 8,
   "id": "78edbfa6",
   "metadata": {
    "ExecuteTime": {
     "end_time": "2022-07-02T16:46:10.206606Z",
     "start_time": "2022-07-02T16:46:02.356883Z"
    }
   },
   "outputs": [
    {
     "name": "stderr",
     "output_type": "stream",
     "text": [
      "/var/folders/nc/kxrby6g55vsbld_55_tt48hw0000gn/T/ipykernel_31600/1038891334.py:1: DeprecationWarning: executable_path has been deprecated, please pass in a Service object\n",
      "  driver = webdriver.Chrome(executable_path='/Users/xiaokeai/Documents/Justin_AI/DM_MAC_AI/AI/Basic/chromedriver')\n"
     ]
    },
    {
     "name": "stdout",
     "output_type": "stream",
     "text": [
      "No element with this class name. Skipping ....\n"
     ]
    }
   ],
   "source": [
    "driver = webdriver.Chrome(executable_path='/Users/xiaokeai/Documents/Justin_AI/DM_MAC_AI/AI/Basic/chromedriver')\n",
    "\n",
    "driver.get('https://demo.seleniumeasy.com/basic-first-form-demo.html')\n",
    "driver.implicitly_wait(15)\n",
    "\n",
    "# incase pop up message\n",
    "try:\n",
    "    no_button = driver.find_element(\"class\",'at-cm-no-button')\n",
    "    no_button.click()\n",
    "except:\n",
    "    print('No element with this class name. Skipping ....')\n",
    "\n",
    "sum1 = driver.find_element(\"id\",'sum1')\n",
    "sum2 = driver.find_element(\"id\",'sum2')\n",
    "\n",
    "sum1.send_keys(Keys.NUMPAD1, Keys.NUMPAD5)\n",
    "sum2.send_keys(15)\n",
    "\n",
    "btn = driver.find_element(\"css selector\",'button[onclick=\"return total()\"]')\n",
    "#btn.click()\n",
    "driver.execute_script(\"arguments[0].click();\", btn)"
   ]
  }
 ],
 "metadata": {
  "kernelspec": {
   "display_name": "Python 3 (ipykernel)",
   "language": "python",
   "name": "python3"
  },
  "language_info": {
   "codemirror_mode": {
    "name": "ipython",
    "version": 3
   },
   "file_extension": ".py",
   "mimetype": "text/x-python",
   "name": "python",
   "nbconvert_exporter": "python",
   "pygments_lexer": "ipython3",
   "version": "3.9.12"
  },
  "toc": {
   "base_numbering": 1,
   "nav_menu": {},
   "number_sections": true,
   "sideBar": true,
   "skip_h1_title": false,
   "title_cell": "Table of Contents",
   "title_sidebar": "Contents",
   "toc_cell": false,
   "toc_position": {},
   "toc_section_display": true,
   "toc_window_display": false
  }
 },
 "nbformat": 4,
 "nbformat_minor": 5
}
