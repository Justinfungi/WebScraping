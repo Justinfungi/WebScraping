{
 "cells": [
  {
   "cell_type": "markdown",
   "id": "8ffe3265",
   "metadata": {
    "ExecuteTime": {
     "end_time": "2022-08-24T06:28:38.453388Z",
     "start_time": "2022-08-24T06:28:38.447692Z"
    },
    "heading_collapsed": true
   },
   "source": [
    "# Loading lib"
   ]
  },
  {
   "cell_type": "code",
   "execution_count": null,
   "id": "3aa78d3f",
   "metadata": {
    "ExecuteTime": {
     "end_time": "2022-08-24T07:45:43.337625Z",
     "start_time": "2022-08-24T07:45:43.335027Z"
    },
    "hidden": true
   },
   "outputs": [],
   "source": [
    "import requests\n",
    "from bs4 import BeautifulSoup as bs\n",
    "from lxml import etree\n",
    "from urllib import request\n",
    "import re"
   ]
  },
  {
   "cell_type": "code",
   "execution_count": null,
   "id": "9d1969f5",
   "metadata": {
    "ExecuteTime": {
     "end_time": "2022-08-24T07:38:28.165018Z",
     "start_time": "2022-08-24T07:38:28.161987Z"
    },
    "hidden": true
   },
   "outputs": [],
   "source": [
    "headers = {\n",
    "    \"User-Agent\": \"Mozilla/5.0 (Windows NT 10.0; Win64; x64) AppleWebKit/537.36 (KHTML, like Gecko) Chrome/71.0.3578.98 Safari/537.36\"\n",
    "}"
   ]
  },
  {
   "cell_type": "markdown",
   "id": "1653348e",
   "metadata": {
    "ExecuteTime": {
     "end_time": "2022-08-24T02:14:34.355883Z",
     "start_time": "2022-08-24T02:14:34.350725Z"
    },
    "heading_collapsed": true
   },
   "source": [
    "# Read Local html"
   ]
  },
  {
   "cell_type": "code",
   "execution_count": null,
   "id": "f2d98664",
   "metadata": {
    "ExecuteTime": {
     "end_time": "2022-08-24T07:38:29.673974Z",
     "start_time": "2022-08-24T07:38:29.668741Z"
    },
    "hidden": true
   },
   "outputs": [],
   "source": [
    "with open('Source Html/home.html','r') as html_file:\n",
    "    local = html_file.read()\n",
    "    "
   ]
  },
  {
   "cell_type": "markdown",
   "id": "e1f879a5",
   "metadata": {
    "ExecuteTime": {
     "end_time": "2022-08-24T02:21:20.684788Z",
     "start_time": "2022-08-24T02:21:20.678061Z"
    },
    "heading_collapsed": true
   },
   "source": [
    "# Read Online html"
   ]
  },
  {
   "cell_type": "code",
   "execution_count": null,
   "id": "137ea7f9",
   "metadata": {
    "ExecuteTime": {
     "end_time": "2022-08-24T07:38:32.408914Z",
     "start_time": "2022-08-24T07:38:31.829602Z"
    },
    "hidden": true,
    "scrolled": true
   },
   "outputs": [],
   "source": [
    "link2 = 'https://www.huya.com/g/2168'\n",
    "huya_text = requests.get(link2).text\n",
    "huya_text\n",
    "# response [200] is successful connection"
   ]
  },
  {
   "cell_type": "code",
   "execution_count": null,
   "id": "526d20f7",
   "metadata": {
    "ExecuteTime": {
     "end_time": "2022-08-24T07:38:41.725738Z",
     "start_time": "2022-08-24T07:38:37.154993Z"
    },
    "hidden": true
   },
   "outputs": [],
   "source": [
    "link3 = 'https://en.wikipedia.org/wiki/Artificial_intelligence'\n",
    "ai_article = requests.get(link3)\n",
    "ai_article_text=ai_article.text\n",
    "ai_article_text\n",
    "# rbesponse [200] is successful connection"
   ]
  },
  {
   "cell_type": "code",
   "execution_count": null,
   "id": "ec94a8f7",
   "metadata": {
    "ExecuteTime": {
     "end_time": "2022-08-24T07:43:40.676121Z",
     "start_time": "2022-08-24T07:43:39.544196Z"
    },
    "hidden": true
   },
   "outputs": [],
   "source": [
    "link4 = 'https://www.blogtyrant.com/long-vs-short-blog-posts/'\n",
    "blog = requests.get(link4)\n",
    "blog_text=blog.text\n",
    "blog_text\n",
    "# rbesponse [200] is successful connection"
   ]
  },
  {
   "cell_type": "markdown",
   "id": "1e0b4208",
   "metadata": {
    "ExecuteTime": {
     "end_time": "2022-08-24T02:21:41.646494Z",
     "start_time": "2022-08-24T02:21:41.641336Z"
    },
    "heading_collapsed": true
   },
   "source": [
    "# BS"
   ]
  },
  {
   "cell_type": "code",
   "execution_count": null,
   "id": "0a717b6e",
   "metadata": {
    "ExecuteTime": {
     "end_time": "2022-08-24T07:38:52.654257Z",
     "start_time": "2022-08-24T07:38:52.640871Z"
    },
    "hidden": true
   },
   "outputs": [],
   "source": [
    "soup_local = bs(local,'lxml')\n",
    "print(soup_local.prettify())"
   ]
  },
  {
   "cell_type": "code",
   "execution_count": null,
   "id": "027b6480",
   "metadata": {
    "ExecuteTime": {
     "end_time": "2022-08-24T07:38:59.146112Z",
     "start_time": "2022-08-24T07:38:58.710693Z"
    },
    "hidden": true
   },
   "outputs": [],
   "source": [
    "# not suitable for website using java\n",
    "soup_huya = bs(huya_text,'lxml')\n",
    "soup_huya.prettify()"
   ]
  },
  {
   "cell_type": "code",
   "execution_count": null,
   "id": "1bb1b3ed",
   "metadata": {
    "ExecuteTime": {
     "end_time": "2022-08-24T07:38:59.146112Z",
     "start_time": "2022-08-24T07:38:58.710693Z"
    },
    "hidden": true
   },
   "outputs": [],
   "source": [
    "# not suitable for website using java\n",
    "soup_ai = bs(ai_article_text,'lxml')\n",
    "soup_ai.prettify()"
   ]
  },
  {
   "cell_type": "code",
   "execution_count": null,
   "id": "bf669e01",
   "metadata": {
    "ExecuteTime": {
     "end_time": "2022-08-24T07:44:36.456350Z",
     "start_time": "2022-08-24T07:44:36.425085Z"
    },
    "hidden": true
   },
   "outputs": [],
   "source": [
    "# not suitable for website using java\n",
    "soup_blog = bs(blog_text,'lxml')\n",
    "soup_blog.prettify()"
   ]
  },
  {
   "cell_type": "markdown",
   "id": "12b14e36",
   "metadata": {
    "heading_collapsed": true
   },
   "source": [
    "# Find"
   ]
  },
  {
   "cell_type": "code",
   "execution_count": null,
   "id": "a91535eb",
   "metadata": {
    "ExecuteTime": {
     "end_time": "2022-08-24T07:39:07.637144Z",
     "start_time": "2022-08-24T07:39:07.631264Z"
    },
    "hidden": true
   },
   "outputs": [],
   "source": [
    "tags = soup_local.find('h2')\n",
    "tags"
   ]
  },
  {
   "cell_type": "code",
   "execution_count": null,
   "id": "3465660c",
   "metadata": {
    "ExecuteTime": {
     "end_time": "2022-08-24T07:39:08.731252Z",
     "start_time": "2022-08-24T07:39:08.723029Z"
    },
    "hidden": true
   },
   "outputs": [],
   "source": [
    "tags = soup_local.find_all('h2')\n",
    "tags"
   ]
  },
  {
   "cell_type": "code",
   "execution_count": null,
   "id": "14bcdd1f",
   "metadata": {
    "ExecuteTime": {
     "end_time": "2022-08-24T07:39:10.651422Z",
     "start_time": "2022-08-24T07:39:10.643360Z"
    },
    "hidden": true,
    "scrolled": true
   },
   "outputs": [],
   "source": [
    "for t in tags:\n",
    "    print(t.text)"
   ]
  },
  {
   "cell_type": "markdown",
   "id": "0e1dd010",
   "metadata": {
    "ExecuteTime": {
     "end_time": "2022-08-24T07:32:09.576395Z",
     "start_time": "2022-08-24T07:32:09.573096Z"
    },
    "heading_collapsed": true
   },
   "source": [
    "# Re"
   ]
  },
  {
   "cell_type": "code",
   "execution_count": null,
   "id": "a9f5df0f",
   "metadata": {
    "ExecuteTime": {
     "end_time": "2022-08-24T07:39:24.118766Z",
     "start_time": "2022-08-24T07:39:24.091992Z"
    },
    "hidden": true
   },
   "outputs": [],
   "source": [
    "para= soup_ai.find_all(\"p\",string=re.compile(\"\"))\n",
    "para"
   ]
  },
  {
   "cell_type": "code",
   "execution_count": null,
   "id": "356be3ed",
   "metadata": {
    "ExecuteTime": {
     "end_time": "2022-08-24T07:47:51.609140Z",
     "start_time": "2022-08-24T07:47:51.601685Z"
    },
    "hidden": true,
    "scrolled": true
   },
   "outputs": [],
   "source": [
    "para= soup_blog.find_all(\"p\",string=re.compile(\"(B|b)log\"))\n",
    "para"
   ]
  },
  {
   "cell_type": "markdown",
   "id": "eaa8841e",
   "metadata": {},
   "source": [
    "# Using BS and Find online"
   ]
  },
  {
   "cell_type": "code",
   "execution_count": null,
   "id": "eb388442",
   "metadata": {
    "ExecuteTime": {
     "end_time": "2022-08-24T06:58:37.646854Z",
     "start_time": "2022-08-24T06:58:37.639918Z"
    }
   },
   "outputs": [],
   "source": [
    "a = soup2.find('a')\n",
    "a"
   ]
  },
  {
   "cell_type": "code",
   "execution_count": null,
   "id": "1c98d5a0",
   "metadata": {
    "ExecuteTime": {
     "end_time": "2022-08-24T07:14:51.524369Z",
     "start_time": "2022-08-24T07:14:51.478307Z"
    },
    "scrolled": true
   },
   "outputs": [],
   "source": [
    "soup2.find_all(['li','ul'], class_=\"game-live-item\")"
   ]
  },
  {
   "cell_type": "code",
   "execution_count": null,
   "id": "29b489f6",
   "metadata": {
    "ExecuteTime": {
     "end_time": "2022-08-24T07:28:54.372394Z",
     "start_time": "2022-08-24T07:28:54.362010Z"
    }
   },
   "outputs": [],
   "source": [
    "paragraph = soup2.find_all(\"p\",attrs={\"id\":\"paragraph-id\"})\n",
    "paragraph"
   ]
  },
  {
   "cell_type": "code",
   "execution_count": null,
   "id": "1d878f3b",
   "metadata": {
    "ExecuteTime": {
     "end_time": "2022-08-24T07:21:09.653346Z",
     "start_time": "2022-08-24T07:21:09.634246Z"
    }
   },
   "outputs": [],
   "source": [
    "content2_text_open= etree.HTML(content2_text)\n",
    "\n",
    "All_diamonds = content2_text_open.xpath('//img[@class=\"pic\"]')\n",
    "All_diamonds"
   ]
  },
  {
   "cell_type": "code",
   "execution_count": null,
   "id": "29c5fb61",
   "metadata": {
    "ExecuteTime": {
     "end_time": "2022-08-24T07:21:56.280752Z",
     "start_time": "2022-08-24T07:21:34.679955Z"
    }
   },
   "outputs": [],
   "source": [
    "for i in All_diamonds:\n",
    "    diamond_url= i.xpath(\"./@data-original\")[0]\n",
    "    diamond_name= i.xpath(\"./@alt\")[0]\n",
    "    \n",
    "    #save \n",
    "    request.urlretrieve(diamond_url,r\"/home/fung0311/Documents/pic//\"+diamond_name+\".jpeg\")\n",
    "    # r is for keeping the meaning of url, prevent from / (escape sign)"
   ]
  }
 ],
 "metadata": {
  "kernelspec": {
   "display_name": "Python 3 (ipykernel)",
   "language": "python",
   "name": "python3"
  },
  "language_info": {
   "codemirror_mode": {
    "name": "ipython",
    "version": 3
   },
   "file_extension": ".py",
   "mimetype": "text/x-python",
   "name": "python",
   "nbconvert_exporter": "python",
   "pygments_lexer": "ipython3",
   "version": "3.9.7"
  },
  "toc": {
   "base_numbering": 1,
   "nav_menu": {},
   "number_sections": true,
   "sideBar": true,
   "skip_h1_title": false,
   "title_cell": "Table of Contents",
   "title_sidebar": "Contents",
   "toc_cell": false,
   "toc_position": {},
   "toc_section_display": true,
   "toc_window_display": false
  }
 },
 "nbformat": 4,
 "nbformat_minor": 5
}
