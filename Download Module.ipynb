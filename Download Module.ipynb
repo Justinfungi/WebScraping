{
 "cells": [
  {
   "cell_type": "code",
   "execution_count": 3,
   "id": "a34fb911",
   "metadata": {
    "ExecuteTime": {
     "end_time": "2022-07-02T15:00:08.930262Z",
     "start_time": "2022-07-02T15:00:08.926901Z"
    }
   },
   "outputs": [],
   "source": [
    "#imports here\n",
    "\n",
    "import os\n",
    "\n",
    "# general tool, open browser and get website\n",
    "from selenium import webdriver\n",
    "\n",
    "# act as a keyboard i/o\n",
    "from selenium.webdriver.common.keys import Keys\n",
    "from selenium.webdriver.support import expected_conditions as EC\n",
    "from selenium.webdriver.common.by import By\n",
    "\n",
    "#Set wait time\n",
    "from selenium.webdriver.support.wait import WebDriverWait"
   ]
  },
  {
   "cell_type": "code",
   "execution_count": 7,
   "id": "bb8fc153",
   "metadata": {
    "ExecuteTime": {
     "end_time": "2022-07-02T15:02:32.414505Z",
     "start_time": "2022-07-02T15:02:17.705136Z"
    }
   },
   "outputs": [
    {
     "name": "stderr",
     "output_type": "stream",
     "text": [
      "/var/folders/nc/kxrby6g55vsbld_55_tt48hw0000gn/T/ipykernel_31429/3620507786.py:1: DeprecationWarning: executable_path has been deprecated, please pass in a Service object\n",
      "  driver = webdriver.Chrome('/Users/xiaokeai/Documents/Justin_AI/DM_MAC_AI/AI/Basic/chromedriver')\n"
     ]
    },
    {
     "ename": "NoSuchElementException",
     "evalue": "Message: no such element: Unable to locate element: {\"method\":\"css selector\",\"selector\":\"[id=\"downloadButton\"]\"}\n  (Session info: chrome=103.0.5060.53)\nStacktrace:\n0   chromedriver                        0x000000010b832079 chromedriver + 4444281\n1   chromedriver                        0x000000010b7be403 chromedriver + 3970051\n2   chromedriver                        0x000000010b459038 chromedriver + 409656\n3   chromedriver                        0x000000010b48f2fd chromedriver + 631549\n4   chromedriver                        0x000000010b48f581 chromedriver + 632193\n5   chromedriver                        0x000000010b4c14f4 chromedriver + 836852\n6   chromedriver                        0x000000010b4ac7bd chromedriver + 751549\n7   chromedriver                        0x000000010b4bf221 chromedriver + 827937\n8   chromedriver                        0x000000010b4ac683 chromedriver + 751235\n9   chromedriver                        0x000000010b482a45 chromedriver + 580165\n10  chromedriver                        0x000000010b483a95 chromedriver + 584341\n11  chromedriver                        0x000000010b80355d chromedriver + 4253021\n12  chromedriver                        0x000000010b8083a1 chromedriver + 4273057\n13  chromedriver                        0x000000010b80d16f chromedriver + 4292975\n14  chromedriver                        0x000000010b808dea chromedriver + 4275690\n15  chromedriver                        0x000000010b7e254f chromedriver + 4117839\n16  chromedriver                        0x000000010b822ed8 chromedriver + 4382424\n17  chromedriver                        0x000000010b82305f chromedriver + 4382815\n18  chromedriver                        0x000000010b8398d5 chromedriver + 4475093\n19  libsystem_pthread.dylib             0x00007fff205388fc _pthread_start + 224\n20  libsystem_pthread.dylib             0x00007fff20534443 thread_start + 15\n",
     "output_type": "error",
     "traceback": [
      "\u001b[0;31m---------------------------------------------------------------------------\u001b[0m",
      "\u001b[0;31mNoSuchElementException\u001b[0m                    Traceback (most recent call last)",
      "\u001b[0;32m/var/folders/nc/kxrby6g55vsbld_55_tt48hw0000gn/T/ipykernel_31429/3620507786.py\u001b[0m in \u001b[0;36m<module>\u001b[0;34m\u001b[0m\n\u001b[1;32m      2\u001b[0m \u001b[0mdriver\u001b[0m\u001b[0;34m.\u001b[0m\u001b[0mget\u001b[0m\u001b[0;34m(\u001b[0m\u001b[0;34m\"https://www.seleniumeasy.com/test/jquery-download-progress-bar-demo.html\"\u001b[0m\u001b[0;34m)\u001b[0m\u001b[0;34m\u001b[0m\u001b[0;34m\u001b[0m\u001b[0m\n\u001b[1;32m      3\u001b[0m \u001b[0mdriver\u001b[0m\u001b[0;34m.\u001b[0m\u001b[0mimplicitly_wait\u001b[0m\u001b[0;34m(\u001b[0m\u001b[0;36m8\u001b[0m\u001b[0;34m)\u001b[0m\u001b[0;34m\u001b[0m\u001b[0;34m\u001b[0m\u001b[0m\n\u001b[0;32m----> 4\u001b[0;31m \u001b[0mmy_element\u001b[0m \u001b[0;34m=\u001b[0m \u001b[0mdriver\u001b[0m\u001b[0;34m.\u001b[0m\u001b[0mfind_element\u001b[0m\u001b[0;34m(\u001b[0m\u001b[0;34m\"id\"\u001b[0m\u001b[0;34m,\u001b[0m \u001b[0;34m'downloadButton'\u001b[0m\u001b[0;34m)\u001b[0m\u001b[0;34m\u001b[0m\u001b[0;34m\u001b[0m\u001b[0m\n\u001b[0m\u001b[1;32m      5\u001b[0m \u001b[0mmy_element\u001b[0m\u001b[0;34m.\u001b[0m\u001b[0mclick\u001b[0m\u001b[0;34m(\u001b[0m\u001b[0;34m)\u001b[0m\u001b[0;34m\u001b[0m\u001b[0;34m\u001b[0m\u001b[0m\n\u001b[1;32m      6\u001b[0m \u001b[0;34m\u001b[0m\u001b[0m\n",
      "\u001b[0;32m~/opt/anaconda3/lib/python3.9/site-packages/selenium/webdriver/remote/webdriver.py\u001b[0m in \u001b[0;36mfind_element\u001b[0;34m(self, by, value)\u001b[0m\n\u001b[1;32m    855\u001b[0m             \u001b[0mvalue\u001b[0m \u001b[0;34m=\u001b[0m \u001b[0;34m'[name=\"%s\"]'\u001b[0m \u001b[0;34m%\u001b[0m \u001b[0mvalue\u001b[0m\u001b[0;34m\u001b[0m\u001b[0;34m\u001b[0m\u001b[0m\n\u001b[1;32m    856\u001b[0m \u001b[0;34m\u001b[0m\u001b[0m\n\u001b[0;32m--> 857\u001b[0;31m         return self.execute(Command.FIND_ELEMENT, {\n\u001b[0m\u001b[1;32m    858\u001b[0m             \u001b[0;34m'using'\u001b[0m\u001b[0;34m:\u001b[0m \u001b[0mby\u001b[0m\u001b[0;34m,\u001b[0m\u001b[0;34m\u001b[0m\u001b[0;34m\u001b[0m\u001b[0m\n\u001b[1;32m    859\u001b[0m             'value': value})['value']\n",
      "\u001b[0;32m~/opt/anaconda3/lib/python3.9/site-packages/selenium/webdriver/remote/webdriver.py\u001b[0m in \u001b[0;36mexecute\u001b[0;34m(self, driver_command, params)\u001b[0m\n\u001b[1;32m    433\u001b[0m         \u001b[0mresponse\u001b[0m \u001b[0;34m=\u001b[0m \u001b[0mself\u001b[0m\u001b[0;34m.\u001b[0m\u001b[0mcommand_executor\u001b[0m\u001b[0;34m.\u001b[0m\u001b[0mexecute\u001b[0m\u001b[0;34m(\u001b[0m\u001b[0mdriver_command\u001b[0m\u001b[0;34m,\u001b[0m \u001b[0mparams\u001b[0m\u001b[0;34m)\u001b[0m\u001b[0;34m\u001b[0m\u001b[0;34m\u001b[0m\u001b[0m\n\u001b[1;32m    434\u001b[0m         \u001b[0;32mif\u001b[0m \u001b[0mresponse\u001b[0m\u001b[0;34m:\u001b[0m\u001b[0;34m\u001b[0m\u001b[0;34m\u001b[0m\u001b[0m\n\u001b[0;32m--> 435\u001b[0;31m             \u001b[0mself\u001b[0m\u001b[0;34m.\u001b[0m\u001b[0merror_handler\u001b[0m\u001b[0;34m.\u001b[0m\u001b[0mcheck_response\u001b[0m\u001b[0;34m(\u001b[0m\u001b[0mresponse\u001b[0m\u001b[0;34m)\u001b[0m\u001b[0;34m\u001b[0m\u001b[0;34m\u001b[0m\u001b[0m\n\u001b[0m\u001b[1;32m    436\u001b[0m             response['value'] = self._unwrap_value(\n\u001b[1;32m    437\u001b[0m                 response.get('value', None))\n",
      "\u001b[0;32m~/opt/anaconda3/lib/python3.9/site-packages/selenium/webdriver/remote/errorhandler.py\u001b[0m in \u001b[0;36mcheck_response\u001b[0;34m(self, response)\u001b[0m\n\u001b[1;32m    245\u001b[0m                 \u001b[0malert_text\u001b[0m \u001b[0;34m=\u001b[0m \u001b[0mvalue\u001b[0m\u001b[0;34m[\u001b[0m\u001b[0;34m'alert'\u001b[0m\u001b[0;34m]\u001b[0m\u001b[0;34m.\u001b[0m\u001b[0mget\u001b[0m\u001b[0;34m(\u001b[0m\u001b[0;34m'text'\u001b[0m\u001b[0;34m)\u001b[0m\u001b[0;34m\u001b[0m\u001b[0;34m\u001b[0m\u001b[0m\n\u001b[1;32m    246\u001b[0m             \u001b[0;32mraise\u001b[0m \u001b[0mexception_class\u001b[0m\u001b[0;34m(\u001b[0m\u001b[0mmessage\u001b[0m\u001b[0;34m,\u001b[0m \u001b[0mscreen\u001b[0m\u001b[0;34m,\u001b[0m \u001b[0mstacktrace\u001b[0m\u001b[0;34m,\u001b[0m \u001b[0malert_text\u001b[0m\u001b[0;34m)\u001b[0m  \u001b[0;31m# type: ignore[call-arg]  # mypy is not smart enough here\u001b[0m\u001b[0;34m\u001b[0m\u001b[0;34m\u001b[0m\u001b[0m\n\u001b[0;32m--> 247\u001b[0;31m         \u001b[0;32mraise\u001b[0m \u001b[0mexception_class\u001b[0m\u001b[0;34m(\u001b[0m\u001b[0mmessage\u001b[0m\u001b[0;34m,\u001b[0m \u001b[0mscreen\u001b[0m\u001b[0;34m,\u001b[0m \u001b[0mstacktrace\u001b[0m\u001b[0;34m)\u001b[0m\u001b[0;34m\u001b[0m\u001b[0;34m\u001b[0m\u001b[0m\n\u001b[0m\u001b[1;32m    248\u001b[0m \u001b[0;34m\u001b[0m\u001b[0m\n\u001b[1;32m    249\u001b[0m     \u001b[0;32mdef\u001b[0m \u001b[0m_value_or_default\u001b[0m\u001b[0;34m(\u001b[0m\u001b[0mself\u001b[0m\u001b[0;34m,\u001b[0m \u001b[0mobj\u001b[0m\u001b[0;34m:\u001b[0m \u001b[0mMapping\u001b[0m\u001b[0;34m[\u001b[0m\u001b[0m_KT\u001b[0m\u001b[0;34m,\u001b[0m \u001b[0m_VT\u001b[0m\u001b[0;34m]\u001b[0m\u001b[0;34m,\u001b[0m \u001b[0mkey\u001b[0m\u001b[0;34m:\u001b[0m \u001b[0m_KT\u001b[0m\u001b[0;34m,\u001b[0m \u001b[0mdefault\u001b[0m\u001b[0;34m:\u001b[0m \u001b[0m_VT\u001b[0m\u001b[0;34m)\u001b[0m \u001b[0;34m->\u001b[0m \u001b[0m_VT\u001b[0m\u001b[0;34m:\u001b[0m\u001b[0;34m\u001b[0m\u001b[0;34m\u001b[0m\u001b[0m\n",
      "\u001b[0;31mNoSuchElementException\u001b[0m: Message: no such element: Unable to locate element: {\"method\":\"css selector\",\"selector\":\"[id=\"downloadButton\"]\"}\n  (Session info: chrome=103.0.5060.53)\nStacktrace:\n0   chromedriver                        0x000000010b832079 chromedriver + 4444281\n1   chromedriver                        0x000000010b7be403 chromedriver + 3970051\n2   chromedriver                        0x000000010b459038 chromedriver + 409656\n3   chromedriver                        0x000000010b48f2fd chromedriver + 631549\n4   chromedriver                        0x000000010b48f581 chromedriver + 632193\n5   chromedriver                        0x000000010b4c14f4 chromedriver + 836852\n6   chromedriver                        0x000000010b4ac7bd chromedriver + 751549\n7   chromedriver                        0x000000010b4bf221 chromedriver + 827937\n8   chromedriver                        0x000000010b4ac683 chromedriver + 751235\n9   chromedriver                        0x000000010b482a45 chromedriver + 580165\n10  chromedriver                        0x000000010b483a95 chromedriver + 584341\n11  chromedriver                        0x000000010b80355d chromedriver + 4253021\n12  chromedriver                        0x000000010b8083a1 chromedriver + 4273057\n13  chromedriver                        0x000000010b80d16f chromedriver + 4292975\n14  chromedriver                        0x000000010b808dea chromedriver + 4275690\n15  chromedriver                        0x000000010b7e254f chromedriver + 4117839\n16  chromedriver                        0x000000010b822ed8 chromedriver + 4382424\n17  chromedriver                        0x000000010b82305f chromedriver + 4382815\n18  chromedriver                        0x000000010b8398d5 chromedriver + 4475093\n19  libsystem_pthread.dylib             0x00007fff205388fc _pthread_start + 224\n20  libsystem_pthread.dylib             0x00007fff20534443 thread_start + 15\n"
     ]
    }
   ],
   "source": [
    "driver = webdriver.Chrome('/Users/xiaokeai/Documents/Justin_AI/DM_MAC_AI/AI/Basic/chromedriver')\n",
    "driver.get(\"https://demo.seleniumeasy.com/bootstrap-download-progress-demo.html\")\n",
    "\n",
    "# wait for same time for all same find command\n",
    "driver.implicitly_wait(8)\n",
    "\n",
    "my_element = driver.find_element(\"id\", 'downloadButton')\n",
    "my_element.click()\n",
    "\n",
    "#wait for operation\n",
    "WebDriverWait(driver, 30).until(\n",
    "    EC.text_to_be_present_in_element(\n",
    "        (By.CLASS_NAME, 'progress-label') , # Element filtration\n",
    "        'Complete!'# The expected text\n",
    "    )\n",
    ")"
   ]
  },
  {
   "cell_type": "code",
   "execution_count": null,
   "id": "fcaa4a63",
   "metadata": {},
   "outputs": [],
   "source": []
  },
  {
   "cell_type": "code",
   "execution_count": null,
   "id": "0e446a38",
   "metadata": {},
   "outputs": [],
   "source": []
  }
 ],
 "metadata": {
  "kernelspec": {
   "display_name": "Python 3 (ipykernel)",
   "language": "python",
   "name": "python3"
  },
  "language_info": {
   "codemirror_mode": {
    "name": "ipython",
    "version": 3
   },
   "file_extension": ".py",
   "mimetype": "text/x-python",
   "name": "python",
   "nbconvert_exporter": "python",
   "pygments_lexer": "ipython3",
   "version": "3.9.7"
  },
  "toc": {
   "base_numbering": 1,
   "nav_menu": {},
   "number_sections": true,
   "sideBar": true,
   "skip_h1_title": false,
   "title_cell": "Table of Contents",
   "title_sidebar": "Contents",
   "toc_cell": false,
   "toc_position": {},
   "toc_section_display": true,
   "toc_window_display": false
  }
 },
 "nbformat": 4,
 "nbformat_minor": 5
}
