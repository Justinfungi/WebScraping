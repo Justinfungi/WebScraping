{
 "cells": [
  {
   "cell_type": "code",
   "execution_count": 1,
   "id": "47bf53e0",
   "metadata": {
    "ExecuteTime": {
     "end_time": "2022-09-03T07:05:16.019829Z",
     "start_time": "2022-09-03T07:05:15.958503Z"
    }
   },
   "outputs": [],
   "source": [
    "from selenium import webdriver\n",
    "from selenium.webdriver.common.by import By\n",
    "from selenium.webdriver.chrome.options import Options\n",
    "from selenium.webdriver.common.keys import Keys\n",
    "from selenium.webdriver.support import expected_conditions as EC\n",
    "from selenium.webdriver.support.wait import WebDriverWait\n",
    "import time"
   ]
  },
  {
   "cell_type": "code",
   "execution_count": 2,
   "id": "8475e430",
   "metadata": {
    "ExecuteTime": {
     "end_time": "2022-09-03T07:05:20.072285Z",
     "start_time": "2022-09-03T07:05:16.021916Z"
    }
   },
   "outputs": [
    {
     "name": "stderr",
     "output_type": "stream",
     "text": [
      "/tmp/ipykernel_5363/352963608.py:6: DeprecationWarning: executable_path has been deprecated, please pass in a Service object\n",
      "  driver = webdriver.Chrome(executable_path=executable, options=chrome_options)\n"
     ]
    }
   ],
   "source": [
    "chrome_options = Options()\n",
    "chrome_options.headless=False\n",
    "\n",
    "executable= \"/home/fish/Documents/WebScraping/driver/chromedriver_ubuntu\"\n",
    "\n",
    "driver = webdriver.Chrome(executable_path=executable, options=chrome_options)\n",
    "\n",
    "url=\"https://connecthkuhk-my.sharepoint.com/personal/fung0311_connect_hku_hk/_layouts/15/onedrive.aspx?isAscending=false&id=%2Fpersonal%2Ffung0311%5Fconnect%5Fhku%5Fhk%2FDocuments%2FShare&sortField=Modified\"\n",
    "driver.get(url)"
   ]
  },
  {
   "cell_type": "code",
   "execution_count": 3,
   "id": "dea2656c",
   "metadata": {
    "ExecuteTime": {
     "end_time": "2022-09-03T07:05:20.786622Z",
     "start_time": "2022-09-03T07:05:20.073594Z"
    }
   },
   "outputs": [],
   "source": [
    "# enter acc and psw\n",
    "username= WebDriverWait(driver, 10)\\\n",
    "          .until(EC.element_to_be_clickable\n",
    "                 ((By.CSS_SELECTOR, \"input[name='loginfmt']\"))\n",
    "                )\n",
    "\n",
    "username.clear()\n",
    "username.send_keys(\"fung0311@connect.hku.hk\")\n"
   ]
  },
  {
   "cell_type": "code",
   "execution_count": 4,
   "id": "80230a78",
   "metadata": {
    "ExecuteTime": {
     "end_time": "2022-09-03T07:05:20.845142Z",
     "start_time": "2022-09-03T07:05:20.788229Z"
    }
   },
   "outputs": [],
   "source": [
    "# submit pressing the button\n",
    "button = WebDriverWait(driver, 2)\\\n",
    "         .until(EC.element_to_be_clickable\n",
    "                ((By.CSS_SELECTOR, \"input[type='submit']\"))\n",
    "               ).click()"
   ]
  },
  {
   "cell_type": "code",
   "execution_count": 5,
   "id": "43d26350",
   "metadata": {
    "ExecuteTime": {
     "end_time": "2022-09-03T07:05:27.969320Z",
     "start_time": "2022-09-03T07:05:20.846320Z"
    }
   },
   "outputs": [],
   "source": [
    "time.sleep(4)\n",
    "# enter psw\n",
    "username= WebDriverWait(driver, 10)\\\n",
    "          .until(EC.element_to_be_clickable\n",
    "                 ((By.CSS_SELECTOR, \"input[name='Password']\"))\n",
    "                )\n",
    "\n",
    "username.clear()\n",
    "username.send_keys(\"fhj03137120128811\")\n",
    "button = WebDriverWait(driver, 2)\\\n",
    "         .until(EC.element_to_be_clickable\n",
    "                ((By.CSS_SELECTOR, \"span[class='submit']\"))\n",
    "               ).click()"
   ]
  },
  {
   "cell_type": "code",
   "execution_count": 6,
   "id": "a9e359cd",
   "metadata": {
    "ExecuteTime": {
     "end_time": "2022-09-03T07:05:32.538011Z",
     "start_time": "2022-09-03T07:05:27.971157Z"
    }
   },
   "outputs": [],
   "source": [
    "button = WebDriverWait(driver, 2)\\\n",
    "         .until(EC.element_to_be_clickable\n",
    "                ((By.CSS_SELECTOR, \"input[id='idSIButton9']\"))\n",
    "               ).click()"
   ]
  },
  {
   "cell_type": "code",
   "execution_count": 7,
   "id": "9d230904",
   "metadata": {
    "ExecuteTime": {
     "end_time": "2022-09-03T07:05:32.554859Z",
     "start_time": "2022-09-03T07:05:32.539372Z"
    }
   },
   "outputs": [
    {
     "name": "stdout",
     "output_type": "stream",
     "text": [
      "16\n"
     ]
    }
   ],
   "source": [
    "Share_List = driver.find_elements(\"xpath\",\"//button[@role='link']\")\n",
    "print(len(Share_List))"
   ]
  },
  {
   "cell_type": "code",
   "execution_count": 8,
   "id": "02825129",
   "metadata": {
    "ExecuteTime": {
     "end_time": "2022-09-03T07:05:32.575109Z",
     "start_time": "2022-09-03T07:05:32.556672Z"
    }
   },
   "outputs": [
    {
     "data": {
      "text/plain": [
       "'Math 2014.xmind'"
      ]
     },
     "execution_count": 8,
     "metadata": {},
     "output_type": "execute_result"
    }
   ],
   "source": [
    "Share_List[0].get_attribute(\"innerHTML\")"
   ]
  },
  {
   "cell_type": "code",
   "execution_count": 9,
   "id": "64f76f1d",
   "metadata": {
    "ExecuteTime": {
     "end_time": "2022-09-03T07:05:32.592573Z",
     "start_time": "2022-09-03T07:05:32.576777Z"
    }
   },
   "outputs": [
    {
     "data": {
      "text/plain": [
       "'Math 2014.xmind'"
      ]
     },
     "execution_count": 9,
     "metadata": {},
     "output_type": "execute_result"
    }
   ],
   "source": [
    "Share_List[0].text"
   ]
  },
  {
   "cell_type": "code",
   "execution_count": 10,
   "id": "b81d3554",
   "metadata": {
    "ExecuteTime": {
     "end_time": "2022-09-03T07:05:32.746853Z",
     "start_time": "2022-09-03T07:05:32.594535Z"
    }
   },
   "outputs": [
    {
     "data": {
      "text/plain": [
       "['Math 2014.xmind',\n",
       " 'Deep Learning (Ian Goodfellow, Yoshua Bengio, Aaron Courville) (z-lib.org).pdf',\n",
       " 'Math2014_Ch02.pdf',\n",
       " 'Math2014_Ch03.pdf',\n",
       " 'Math2014_Ch01.pdf',\n",
       " 'Tutorial submission example -- Training with timestamped logs.ipynb',\n",
       " 'timetable.pdf',\n",
       " 'CS_GPU_Farm_Intro.pptx',\n",
       " 'Lecture_1_Introdction_new.pdf',\n",
       " '最优化理论与算法 (陈宝林) (z-lib.org).pdf',\n",
       " 'Linear and Nonlinear Programming, 4th Edition_ International Series in Operations Research & Management Science ( PDFDrive ).pdf',\n",
       " 'optreference.pdf',\n",
       " 'Syllabus.pdf',\n",
       " 'part I.pdf',\n",
       " '1-Introduction.pdf',\n",
       " 'Python 3网络爬虫开发实战 (崔庆才) (z-lib.org).pdf']"
      ]
     },
     "execution_count": 10,
     "metadata": {},
     "output_type": "execute_result"
    }
   ],
   "source": [
    "share_list_names=[]\n",
    "for i in Share_List:\n",
    "    share_list_names.append(i.text)\n",
    "    \n",
    "share_list_names"
   ]
  },
  {
   "cell_type": "code",
   "execution_count": 11,
   "id": "b1e1a48d",
   "metadata": {
    "ExecuteTime": {
     "end_time": "2022-09-03T07:05:32.759539Z",
     "start_time": "2022-09-03T07:05:32.749145Z"
    },
    "scrolled": true
   },
   "outputs": [
    {
     "data": {
      "text/plain": [
       "['1-Introduction.pdf',\n",
       " 'Linear and Nonlinear Programming, 4th Edition_ International Series in Operations Research & Management Science ( PDFDrive ).pdf',\n",
       " 'optreference.pdf',\n",
       " 'Python 3网络爬虫开发实战 (崔庆才) (z-lib.org).pdf',\n",
       " 'Syllabus.pdf',\n",
       " 'selenium-tutorial.pdf',\n",
       " 'part I.pdf',\n",
       " '最优化理论与算法 (陈宝林) (z-lib.org).pdf']"
      ]
     },
     "execution_count": 11,
     "metadata": {},
     "output_type": "execute_result"
    }
   ],
   "source": [
    "import os\n",
    "entries = os.listdir('/home/fish/Share/')\n",
    "entries"
   ]
  },
  {
   "cell_type": "code",
   "execution_count": 21,
   "id": "3bbff31f",
   "metadata": {
    "ExecuteTime": {
     "end_time": "2022-09-03T07:28:31.426654Z",
     "start_time": "2022-09-03T07:28:31.016305Z"
    }
   },
   "outputs": [],
   "source": [
    "button = WebDriverWait(driver, 2)\\\n",
    "         .until(EC.element_to_be_clickable\n",
    "                ((By.CSS_SELECTOR, \"button[name='Upload']\"))\n",
    "               ).click()\n",
    "drag_area=driver.find_element(By.CSS_SELECTOR, \"button[name='Files']\")\n",
    "drag_area.send_keys(\"/home/fish/Pictures/Screenshots/1.png\")"
   ]
  },
  {
   "cell_type": "code",
   "execution_count": null,
   "id": "3d123210",
   "metadata": {
    "ExecuteTime": {
     "end_time": "2022-09-03T07:05:33.125807Z",
     "start_time": "2022-09-03T07:05:33.125791Z"
    }
   },
   "outputs": [],
   "source": [
    "button = WebDriverWait(driver, 2)\\\n",
    "         .until(EC.element_to_be_clickable\n",
    "                ((By.CSS_SELECTOR, \"button[name='Upload']\"))\n",
    "               ).click()\n",
    "button = WebDriverWait(driver, 2)\\\n",
    "         .until(EC.element_to_be_clickable\n",
    "                ((By.CSS_SELECTOR, \"button[name='Files']\"))\n",
    "               ).click()"
   ]
  },
  {
   "cell_type": "raw",
   "id": "24b55d7f",
   "metadata": {},
   "source": [
    "for i in entries:\n",
    "    if i not in share_list_names:\n",
    "        "
   ]
  }
 ],
 "metadata": {
  "kernelspec": {
   "display_name": "Python 3 (ipykernel)",
   "language": "python",
   "name": "python3"
  },
  "language_info": {
   "codemirror_mode": {
    "name": "ipython",
    "version": 3
   },
   "file_extension": ".py",
   "mimetype": "text/x-python",
   "name": "python",
   "nbconvert_exporter": "python",
   "pygments_lexer": "ipython3",
   "version": "3.9.12"
  },
  "toc": {
   "base_numbering": 1,
   "nav_menu": {},
   "number_sections": true,
   "sideBar": true,
   "skip_h1_title": false,
   "title_cell": "Table of Contents",
   "title_sidebar": "Contents",
   "toc_cell": false,
   "toc_position": {},
   "toc_section_display": true,
   "toc_window_display": false
  }
 },
 "nbformat": 4,
 "nbformat_minor": 5
}
