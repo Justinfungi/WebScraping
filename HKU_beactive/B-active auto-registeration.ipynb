{
 "cells": [
  {
   "cell_type": "code",
   "execution_count": 105,
   "id": "47bf53e0",
   "metadata": {
    "ExecuteTime": {
     "end_time": "2022-10-03T04:58:35.577346Z",
     "start_time": "2022-10-03T04:58:35.563537Z"
    }
   },
   "outputs": [],
   "source": [
    "from selenium import webdriver\n",
    "from selenium.webdriver.common.by import By\n",
    "from selenium.webdriver.chrome.options import Options\n",
    "from selenium.webdriver.common.keys import Keys\n",
    "from selenium.webdriver.support import expected_conditions as EC\n",
    "from selenium.webdriver.support.wait import WebDriverWait\n",
    "import time\n",
    "from selenium.webdriver.support.ui import Select\n",
    "import pickle"
   ]
  },
  {
   "cell_type": "code",
   "execution_count": 106,
   "id": "8475e430",
   "metadata": {
    "ExecuteTime": {
     "end_time": "2022-10-03T04:58:38.592990Z",
     "start_time": "2022-10-03T04:58:35.581419Z"
    }
   },
   "outputs": [
    {
     "name": "stderr",
     "output_type": "stream",
     "text": [
      "/tmp/ipykernel_39655/895092042.py:6: DeprecationWarning: executable_path has been deprecated, please pass in a Service object\n",
      "  driver = webdriver.Chrome(executable_path=executable, options=chrome_options)\n"
     ]
    }
   ],
   "source": [
    "chrome_options = Options()\n",
    "chrome_options.headless=False\n",
    "\n",
    "executable= \"/home/fish/Documents/WebScraping/driver/chromedriver_ubuntu\"\n",
    "\n",
    "driver = webdriver.Chrome(executable_path=executable, options=chrome_options)\n",
    "\n",
    "url=\"https://fcbooking.cse.hku.hk/Form/SignUp\"\n",
    "driver.get(url)"
   ]
  },
  {
   "cell_type": "raw",
   "id": "58922f28",
   "metadata": {
    "ExecuteTime": {
     "end_time": "2022-10-03T04:56:18.686428Z",
     "start_time": "2022-10-03T04:56:18.271671Z"
    }
   },
   "source": [
    "# enter acc and psw\n",
    "Email= WebDriverWait(driver, 10)\\\n",
    "          .until(EC.element_to_be_clickable\n",
    "                 ((By.CSS_SELECTOR, \"input[id='Email']\"))\n",
    "                )\n",
    "\n",
    "Email.clear()\n",
    "Email.send_keys(\"fung0311@connect.hku.hk\")\n",
    "\n",
    "# enter acc and psw\n",
    "Name= WebDriverWait(driver, 10)\\\n",
    "          .until(EC.element_to_be_clickable\n",
    "                 ((By.CSS_SELECTOR, \"input[id='FirstName']\"))\n",
    "                )\n",
    "\n",
    "Name.clear()\n",
    "Name.send_keys(\"Fung Ho Kit\")\n",
    "\n",
    "MemberID= WebDriverWait(driver, 10)\\\n",
    "          .until(EC.element_to_be_clickable\n",
    "                 ((By.CSS_SELECTOR, \"input[id='MemberID']\"))\n",
    "                )\n",
    "\n",
    "MemberID.clear()\n",
    "MemberID.send_keys(\"3035779105\")\n",
    "\n"
   ]
  },
  {
   "cell_type": "code",
   "execution_count": 107,
   "id": "6374cd4c",
   "metadata": {
    "ExecuteTime": {
     "end_time": "2022-10-03T04:58:39.052566Z",
     "start_time": "2022-10-03T04:58:38.594449Z"
    }
   },
   "outputs": [],
   "source": [
    "# enter acc and psw\n",
    "Email= WebDriverWait(driver, 10)\\\n",
    "          .until(EC.element_to_be_clickable\n",
    "                 ((By.CSS_SELECTOR, \"input[id='Email']\"))\n",
    "                )\n",
    "\n",
    "Email.clear()\n",
    "Email.send_keys(\"hah@connect.hku.hk\")\n",
    "\n",
    "# enter acc and psw\n",
    "Name= WebDriverWait(driver, 10)\\\n",
    "          .until(EC.element_to_be_clickable\n",
    "                 ((By.CSS_SELECTOR, \"input[id='FirstName']\"))\n",
    "                )\n",
    "\n",
    "Name.clear()\n",
    "Name.send_keys(\"???\")\n",
    "\n",
    "MemberID= WebDriverWait(driver, 10)\\\n",
    "          .until(EC.element_to_be_clickable\n",
    "                 ((By.CSS_SELECTOR, \"input[id='MemberID']\"))\n",
    "                )\n",
    "\n",
    "MemberID.clear()\n",
    "MemberID.send_keys(\"sns\")\n",
    "\n"
   ]
  },
  {
   "cell_type": "code",
   "execution_count": 108,
   "id": "80230a78",
   "metadata": {
    "ExecuteTime": {
     "end_time": "2022-10-03T04:58:39.236018Z",
     "start_time": "2022-10-03T04:58:39.053938Z"
    }
   },
   "outputs": [],
   "source": [
    "try:\n",
    "    select = Select(driver.find_element(By.ID, \"CenterID\"))\n",
    "    select.select_by_value('10002')\n",
    "\n",
    "    select = Select(driver.find_element(By.ID, \"DateList\"))\n",
    "    select.select_by_value('2022/10/06')\n",
    "\n",
    "    select = Select(driver.find_element(By.ID, \"SessionTime\"))\n",
    "    select.select_by_value('10060')\n",
    "    \n",
    "except:\n",
    "    pass"
   ]
  },
  {
   "cell_type": "code",
   "execution_count": 109,
   "id": "8d5052d2",
   "metadata": {
    "ExecuteTime": {
     "end_time": "2022-10-03T04:58:40.087599Z",
     "start_time": "2022-10-03T04:58:39.237768Z"
    }
   },
   "outputs": [],
   "source": [
    "WebDriverWait(driver, 2)\\\n",
    "         .until(EC.element_to_be_clickable((By.XPATH, '//label[@class=\"form-check-label\"]'))).click()\n",
    "\n",
    "lst=[\"Q1_f\",\"Q2_f\",\"Q3_f\",\"Q4_f\",\"Q5_f\",\"Q6_f\",\"Q7_f\",\"Q8_f\",]\n",
    "for i in lst:\n",
    "    s= f'//label[@for=\"{i}\"]'\n",
    "    WebDriverWait(driver, 2)\\\n",
    "             .until(EC.element_to_be_clickable((By.XPATH, s))).click()\n",
    "    \n",
    "WebDriverWait(driver, 2)\\\n",
    "             .until(EC.element_to_be_clickable((By.XPATH, '//label[@for=\"dataCollection\"]'))).click()"
   ]
  },
  {
   "cell_type": "markdown",
   "id": "b50ee551",
   "metadata": {
    "ExecuteTime": {
     "end_time": "2022-10-03T04:48:33.719289Z",
     "start_time": "2022-10-03T04:48:29.443768Z"
    }
   },
   "source": [
    "# save cookies\n",
    "\n",
    "import pickle\n",
    "import selenium.webdriver\n",
    "\n",
    "driver = selenium.webdriver.Firefox()\n",
    "driver.get(\"http://www.google.com\")\n",
    "pickle.dump( driver.get_cookies() , open(\"cookies.pkl\",\"wb\"))"
   ]
  },
  {
   "cell_type": "code",
   "execution_count": 110,
   "id": "a9e359cd",
   "metadata": {
    "ExecuteTime": {
     "end_time": "2022-10-03T04:58:42.178393Z",
     "start_time": "2022-10-03T04:58:40.089374Z"
    }
   },
   "outputs": [
    {
     "ename": "TimeoutException",
     "evalue": "Message: \nStacktrace:\n#0 0x559f51652403 <unknown>\n#1 0x559f51458778 <unknown>\n#2 0x559f5148fc87 <unknown>\n#3 0x559f5148fe51 <unknown>\n#4 0x559f514c2f24 <unknown>\n#5 0x559f514ada2d <unknown>\n#6 0x559f514c0c74 <unknown>\n#7 0x559f514ad8f3 <unknown>\n#8 0x559f514830d8 <unknown>\n#9 0x559f51484205 <unknown>\n#10 0x559f51699e3d <unknown>\n#11 0x559f5169cdb6 <unknown>\n#12 0x559f5168313e <unknown>\n#13 0x559f5169d9b5 <unknown>\n#14 0x559f51677970 <unknown>\n#15 0x559f516ba228 <unknown>\n#16 0x559f516ba3bf <unknown>\n#17 0x559f516d4abe <unknown>\n#18 0x7f1e6bf6eb43 <unknown>\n",
     "output_type": "error",
     "traceback": [
      "\u001b[0;31m---------------------------------------------------------------------------\u001b[0m",
      "\u001b[0;31mTimeoutException\u001b[0m                          Traceback (most recent call last)",
      "Input \u001b[0;32mIn [110]\u001b[0m, in \u001b[0;36m<cell line: 1>\u001b[0;34m()\u001b[0m\n\u001b[0;32m----> 1\u001b[0m button \u001b[38;5;241m=\u001b[39m \u001b[43mWebDriverWait\u001b[49m\u001b[43m(\u001b[49m\u001b[43mdriver\u001b[49m\u001b[43m,\u001b[49m\u001b[43m \u001b[49m\u001b[38;5;241;43m2\u001b[39;49m\u001b[43m)\u001b[49m\u001b[43m\\\u001b[49m\n\u001b[1;32m      2\u001b[0m \u001b[43m         \u001b[49m\u001b[38;5;241;43m.\u001b[39;49m\u001b[43muntil\u001b[49m\u001b[43m(\u001b[49m\u001b[43mEC\u001b[49m\u001b[38;5;241;43m.\u001b[39;49m\u001b[43melement_to_be_clickable\u001b[49m\n\u001b[1;32m      3\u001b[0m \u001b[43m                \u001b[49m\u001b[43m(\u001b[49m\u001b[43m(\u001b[49m\u001b[43mBy\u001b[49m\u001b[38;5;241;43m.\u001b[39;49m\u001b[43mCSS_SELECTOR\u001b[49m\u001b[43m,\u001b[49m\u001b[43m \u001b[49m\u001b[38;5;124;43m\"\u001b[39;49m\u001b[38;5;124;43minput[id=\u001b[39;49m\u001b[38;5;124;43m'\u001b[39;49m\u001b[38;5;124;43msbmtBtn\u001b[39;49m\u001b[38;5;124;43m'\u001b[39;49m\u001b[38;5;124;43m]\u001b[39;49m\u001b[38;5;124;43m\"\u001b[39;49m\u001b[43m)\u001b[49m\u001b[43m)\u001b[49m\n\u001b[1;32m      4\u001b[0m \u001b[43m               \u001b[49m\u001b[43m)\u001b[49m\u001b[38;5;241m.\u001b[39mclick()\n",
      "File \u001b[0;32m~/anaconda3/lib/python3.9/site-packages/selenium/webdriver/support/wait.py:90\u001b[0m, in \u001b[0;36mWebDriverWait.until\u001b[0;34m(self, method, message)\u001b[0m\n\u001b[1;32m     88\u001b[0m     \u001b[38;5;28;01mif\u001b[39;00m time\u001b[38;5;241m.\u001b[39mmonotonic() \u001b[38;5;241m>\u001b[39m end_time:\n\u001b[1;32m     89\u001b[0m         \u001b[38;5;28;01mbreak\u001b[39;00m\n\u001b[0;32m---> 90\u001b[0m \u001b[38;5;28;01mraise\u001b[39;00m TimeoutException(message, screen, stacktrace)\n",
      "\u001b[0;31mTimeoutException\u001b[0m: Message: \nStacktrace:\n#0 0x559f51652403 <unknown>\n#1 0x559f51458778 <unknown>\n#2 0x559f5148fc87 <unknown>\n#3 0x559f5148fe51 <unknown>\n#4 0x559f514c2f24 <unknown>\n#5 0x559f514ada2d <unknown>\n#6 0x559f514c0c74 <unknown>\n#7 0x559f514ad8f3 <unknown>\n#8 0x559f514830d8 <unknown>\n#9 0x559f51484205 <unknown>\n#10 0x559f51699e3d <unknown>\n#11 0x559f5169cdb6 <unknown>\n#12 0x559f5168313e <unknown>\n#13 0x559f5169d9b5 <unknown>\n#14 0x559f51677970 <unknown>\n#15 0x559f516ba228 <unknown>\n#16 0x559f516ba3bf <unknown>\n#17 0x559f516d4abe <unknown>\n#18 0x7f1e6bf6eb43 <unknown>\n"
     ]
    }
   ],
   "source": [
    "button = WebDriverWait(driver, 2)\\\n",
    "         .until(EC.element_to_be_clickable\n",
    "                ((By.CSS_SELECTOR, \"input[id='sbmtBtn']\"))\n",
    "               ).click()"
   ]
  }
 ],
 "metadata": {
  "kernelspec": {
   "display_name": "Python 3 (ipykernel)",
   "language": "python",
   "name": "python3"
  },
  "language_info": {
   "codemirror_mode": {
    "name": "ipython",
    "version": 3
   },
   "file_extension": ".py",
   "mimetype": "text/x-python",
   "name": "python",
   "nbconvert_exporter": "python",
   "pygments_lexer": "ipython3",
   "version": "3.9.12"
  },
  "toc": {
   "base_numbering": 1,
   "nav_menu": {},
   "number_sections": true,
   "sideBar": true,
   "skip_h1_title": false,
   "title_cell": "Table of Contents",
   "title_sidebar": "Contents",
   "toc_cell": false,
   "toc_position": {},
   "toc_section_display": true,
   "toc_window_display": false
  }
 },
 "nbformat": 4,
 "nbformat_minor": 5
}
