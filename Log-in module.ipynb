{
 "cells": [
  {
   "cell_type": "code",
   "execution_count": 1,
   "id": "d142dcaf",
   "metadata": {
    "ExecuteTime": {
     "end_time": "2022-07-02T14:50:29.460212Z",
     "start_time": "2022-07-02T14:50:29.364064Z"
    }
   },
   "outputs": [],
   "source": [
    "#imports here\n",
    "from selenium import webdriver\n",
    "from selenium.webdriver.common.keys import Keys\n",
    "from selenium.webdriver.support import expected_conditions as EC\n",
    "from selenium.webdriver.common.by import By\n",
    "from selenium.webdriver.support.wait import WebDriverWait"
   ]
  },
  {
   "cell_type": "code",
   "execution_count": null,
   "id": "e96111a7",
   "metadata": {},
   "outputs": [],
   "source": [
    "#open browser\n",
    "driver = webdriver.Chrome(executable_path='/Users/xiaokeai/Documents/Justin_AI/DM_MAC_AI/AI/Basic/chromedriver')\n",
    "driver.get(\"https://www.instagram.com\")"
   ]
  },
  {
   "cell_type": "code",
   "execution_count": null,
   "id": "0730ad6a",
   "metadata": {},
   "outputs": [],
   "source": [
    "# enter acc and psw\n",
    "username= WebDriverWait(driver, 10)\\\n",
    "          .until(EC.element_to_be_clickable\n",
    "                 ((By.CSS_SELECTOR, \"input[name='username']\"))\n",
    "                )\n",
    "password= WebDriverWait(driver, 10)\\\n",
    "          .until(EC.element_to_be_clickable\n",
    "                 ((By.CSS_SELECTOR, \"input[name='password']\"))\n",
    "                )\n",
    "\n",
    "username.clear()\n",
    "password.clear()\n",
    "\n",
    "username.send_keys(\"fishris6\")\n",
    "password.send_keys(\"fhjzdm1119\")"
   ]
  },
  {
   "cell_type": "code",
   "execution_count": null,
   "id": "47d1baa6",
   "metadata": {},
   "outputs": [],
   "source": [
    "# submit pressing the button\n",
    "button = WebDriverWait(driver, 2)\\\n",
    "         .until(EC.element_to_be_clickable\n",
    "                ((By.CSS_SELECTOR, \"button[type='submit']\"))\n",
    "               ).click()"
   ]
  }
 ],
 "metadata": {
  "kernelspec": {
   "display_name": "Python 3 (ipykernel)",
   "language": "python",
   "name": "python3"
  },
  "language_info": {
   "codemirror_mode": {
    "name": "ipython",
    "version": 3
   },
   "file_extension": ".py",
   "mimetype": "text/x-python",
   "name": "python",
   "nbconvert_exporter": "python",
   "pygments_lexer": "ipython3",
   "version": "3.9.7"
  },
  "toc": {
   "base_numbering": 1,
   "nav_menu": {},
   "number_sections": true,
   "sideBar": true,
   "skip_h1_title": false,
   "title_cell": "Table of Contents",
   "title_sidebar": "Contents",
   "toc_cell": false,
   "toc_position": {},
   "toc_section_display": true,
   "toc_window_display": false
  }
 },
 "nbformat": 4,
 "nbformat_minor": 5
}
