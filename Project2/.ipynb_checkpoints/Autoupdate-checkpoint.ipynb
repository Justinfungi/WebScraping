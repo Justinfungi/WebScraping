{
 "cells": [
  {
   "cell_type": "code",
   "execution_count": 145,
   "id": "47bf53e0",
   "metadata": {
    "ExecuteTime": {
     "end_time": "2022-09-03T06:26:53.003936Z",
     "start_time": "2022-09-03T06:26:52.996376Z"
    }
   },
   "outputs": [],
   "source": [
    "from selenium import webdriver\n",
    "from selenium.webdriver.common.by import By\n",
    "from selenium.webdriver.chrome.options import Options\n",
    "from selenium.webdriver.common.keys import Keys\n",
    "from selenium.webdriver.support import expected_conditions as EC\n",
    "from selenium.webdriver.support.wait import WebDriverWait\n",
    "import time"
   ]
  },
  {
   "cell_type": "code",
   "execution_count": 146,
   "id": "8475e430",
   "metadata": {
    "ExecuteTime": {
     "end_time": "2022-09-03T06:27:00.284541Z",
     "start_time": "2022-09-03T06:26:53.007947Z"
    }
   },
   "outputs": [
    {
     "name": "stderr",
     "output_type": "stream",
     "text": [
      "/tmp/ipykernel_38319/352963608.py:6: DeprecationWarning: executable_path has been deprecated, please pass in a Service object\n",
      "  driver = webdriver.Chrome(executable_path=executable, options=chrome_options)\n"
     ]
    }
   ],
   "source": [
    "chrome_options = Options()\n",
    "chrome_options.headless=False\n",
    "\n",
    "executable= \"/home/fish/Documents/WebScraping/driver/chromedriver_ubuntu\"\n",
    "\n",
    "driver = webdriver.Chrome(executable_path=executable, options=chrome_options)\n",
    "\n",
    "url=\"https://connecthkuhk-my.sharepoint.com/personal/fung0311_connect_hku_hk/_layouts/15/onedrive.aspx?isAscending=false&id=%2Fpersonal%2Ffung0311%5Fconnect%5Fhku%5Fhk%2FDocuments%2FShare&sortField=Modified\"\n",
    "driver.get(url)"
   ]
  },
  {
   "cell_type": "code",
   "execution_count": 147,
   "id": "dea2656c",
   "metadata": {
    "ExecuteTime": {
     "end_time": "2022-09-03T06:27:01.142211Z",
     "start_time": "2022-09-03T06:27:00.290514Z"
    }
   },
   "outputs": [],
   "source": [
    "# enter acc and psw\n",
    "username= WebDriverWait(driver, 10)\\\n",
    "          .until(EC.element_to_be_clickable\n",
    "                 ((By.CSS_SELECTOR, \"input[name='loginfmt']\"))\n",
    "                )\n",
    "\n",
    "username.clear()\n",
    "username.send_keys(\"fung0311@connect.hku.hk\")\n"
   ]
  },
  {
   "cell_type": "code",
   "execution_count": 148,
   "id": "80230a78",
   "metadata": {
    "ExecuteTime": {
     "end_time": "2022-09-03T06:27:01.344704Z",
     "start_time": "2022-09-03T06:27:01.147756Z"
    }
   },
   "outputs": [],
   "source": [
    "# submit pressing the button\n",
    "button = WebDriverWait(driver, 2)\\\n",
    "         .until(EC.element_to_be_clickable\n",
    "                ((By.CSS_SELECTOR, \"input[type='submit']\"))\n",
    "               ).click()"
   ]
  },
  {
   "cell_type": "code",
   "execution_count": 149,
   "id": "43d26350",
   "metadata": {
    "ExecuteTime": {
     "end_time": "2022-09-03T06:27:09.061734Z",
     "start_time": "2022-09-03T06:27:01.349700Z"
    }
   },
   "outputs": [],
   "source": [
    "time.sleep(4)\n",
    "# enter psw\n",
    "username= WebDriverWait(driver, 10)\\\n",
    "          .until(EC.element_to_be_clickable\n",
    "                 ((By.CSS_SELECTOR, \"input[name='Password']\"))\n",
    "                )\n",
    "\n",
    "username.clear()\n",
    "username.send_keys(\"fhj03137120128811\")\n",
    "button = WebDriverWait(driver, 2)\\\n",
    "         .until(EC.element_to_be_clickable\n",
    "                ((By.CSS_SELECTOR, \"span[class='submit']\"))\n",
    "               ).click()"
   ]
  },
  {
   "cell_type": "code",
   "execution_count": 150,
   "id": "a9e359cd",
   "metadata": {
    "ExecuteTime": {
     "end_time": "2022-09-03T06:27:19.672436Z",
     "start_time": "2022-09-03T06:27:09.065711Z"
    }
   },
   "outputs": [],
   "source": [
    "button = WebDriverWait(driver, 2)\\\n",
    "         .until(EC.element_to_be_clickable\n",
    "                ((By.CSS_SELECTOR, \"input[id='idSIButton9']\"))\n",
    "               ).click()"
   ]
  },
  {
   "cell_type": "code",
   "execution_count": 151,
   "id": "9d230904",
   "metadata": {
    "ExecuteTime": {
     "end_time": "2022-09-03T06:27:19.729804Z",
     "start_time": "2022-09-03T06:27:19.677675Z"
    }
   },
   "outputs": [
    {
     "name": "stdout",
     "output_type": "stream",
     "text": [
      "16\n"
     ]
    }
   ],
   "source": [
    "Share_List = driver.find_elements(\"xpath\",\"//button[@role='link']\")\n",
    "print(len(Share_List))"
   ]
  },
  {
   "cell_type": "code",
   "execution_count": 152,
   "id": "02825129",
   "metadata": {
    "ExecuteTime": {
     "end_time": "2022-09-03T06:27:19.785826Z",
     "start_time": "2022-09-03T06:27:19.735690Z"
    }
   },
   "outputs": [
    {
     "data": {
      "text/plain": [
       "'Math 2014.xmind'"
      ]
     },
     "execution_count": 152,
     "metadata": {},
     "output_type": "execute_result"
    }
   ],
   "source": [
    "Share_List[0].get_attribute(\"innerHTML\")"
   ]
  },
  {
   "cell_type": "code",
   "execution_count": 153,
   "id": "64f76f1d",
   "metadata": {
    "ExecuteTime": {
     "end_time": "2022-09-03T06:27:19.852110Z",
     "start_time": "2022-09-03T06:27:19.796076Z"
    }
   },
   "outputs": [
    {
     "data": {
      "text/plain": [
       "'Math 2014.xmind'"
      ]
     },
     "execution_count": 153,
     "metadata": {},
     "output_type": "execute_result"
    }
   ],
   "source": [
    "Share_List[0].text"
   ]
  },
  {
   "cell_type": "code",
   "execution_count": 154,
   "id": "b81d3554",
   "metadata": {
    "ExecuteTime": {
     "end_time": "2022-09-03T06:27:20.393111Z",
     "start_time": "2022-09-03T06:27:19.859487Z"
    }
   },
   "outputs": [
    {
     "data": {
      "text/plain": [
       "['Math 2014.xmind',\n",
       " 'Deep Learning (Ian Goodfellow, Yoshua Bengio, Aaron Courville) (z-lib.org).pdf',\n",
       " 'Math2014_Ch02.pdf',\n",
       " 'Math2014_Ch03.pdf',\n",
       " 'Math2014_Ch01.pdf',\n",
       " 'Tutorial submission example -- Training with timestamped logs.ipynb',\n",
       " 'timetable.pdf',\n",
       " 'CS_GPU_Farm_Intro.pptx',\n",
       " 'Lecture_1_Introdction_new.pdf',\n",
       " '最优化理论与算法 (陈宝林) (z-lib.org).pdf',\n",
       " 'Linear and Nonlinear Programming, 4th Edition_ International Series in Operations Research & Management Science ( PDFDrive ).pdf',\n",
       " 'optreference.pdf',\n",
       " 'Syllabus.pdf',\n",
       " 'part I.pdf',\n",
       " '1-Introduction.pdf',\n",
       " 'Python 3网络爬虫开发实战 (崔庆才) (z-lib.org).pdf']"
      ]
     },
     "execution_count": 154,
     "metadata": {},
     "output_type": "execute_result"
    }
   ],
   "source": [
    "share_list_names=[]\n",
    "for i in Share_List:\n",
    "    share_list_names.append(i.text)\n",
    "    \n",
    "share_list_names"
   ]
  },
  {
   "cell_type": "code",
   "execution_count": 155,
   "id": "b1e1a48d",
   "metadata": {
    "ExecuteTime": {
     "end_time": "2022-09-03T06:27:20.426800Z",
     "start_time": "2022-09-03T06:27:20.398442Z"
    },
    "scrolled": false
   },
   "outputs": [
    {
     "data": {
      "text/plain": [
       "['1-Introduction.pdf',\n",
       " 'Linear and Nonlinear Programming, 4th Edition_ International Series in Operations Research & Management Science ( PDFDrive ).pdf',\n",
       " 'optreference.pdf',\n",
       " 'Python 3网络爬虫开发实战 (崔庆才) (z-lib.org).pdf',\n",
       " 'Syllabus.pdf',\n",
       " 'selenium-tutorial.pdf',\n",
       " 'part I.pdf',\n",
       " '最优化理论与算法 (陈宝林) (z-lib.org).pdf']"
      ]
     },
     "execution_count": 155,
     "metadata": {},
     "output_type": "execute_result"
    }
   ],
   "source": [
    "import os\n",
    "entries = os.listdir('/home/fish/Share/')\n",
    "entries"
   ]
  },
  {
   "cell_type": "code",
   "execution_count": null,
   "id": "2e61a31e",
   "metadata": {
    "ExecuteTime": {
     "start_time": "2022-09-03T06:34:21.107Z"
    }
   },
   "outputs": [],
   "source": [
    "import pyautogui\n",
    "pyautogui.write('/home/fish/Pictures/Screenshots/1.png') \n",
    "pyautogui.press('Open')"
   ]
  },
  {
   "cell_type": "code",
   "execution_count": 160,
   "id": "fe7c296e",
   "metadata": {
    "ExecuteTime": {
     "end_time": "2022-09-03T06:33:31.652583Z",
     "start_time": "2022-09-03T06:33:31.026261Z"
    }
   },
   "outputs": [],
   "source": [
    "button = WebDriverWait(driver, 2)\\\n",
    "         .until(EC.element_to_be_clickable\n",
    "                ((By.CSS_SELECTOR, \"button[name='Upload']\"))\n",
    "               ).click()\n",
    "button = WebDriverWait(driver, 2)\\\n",
    "         .until(EC.element_to_be_clickable\n",
    "                ((By.CSS_SELECTOR, \"button[name='Files']\"))\n",
    "               ).click()"
   ]
  },
  {
   "cell_type": "raw",
   "id": "24b55d7f",
   "metadata": {},
   "source": [
    "for i in entries:\n",
    "    if i not in share_list_names:\n",
    "        "
   ]
  },
  {
   "cell_type": "raw",
   "id": "213a1e7e",
   "metadata": {
    "ExecuteTime": {
     "end_time": "2022-09-03T05:17:44.809440Z",
     "start_time": "2022-09-03T05:17:44.792381Z"
    }
   },
   "source": [
    "def get_text_excluding_children(driver, element):\n",
    "    return driver.execute_script(\"\"\"\n",
    "    return jQuery(arguments[0]).contents().filter(function() {\n",
    "        return this.nodeType == Node.TEXT_NODE;\n",
    "    }).text();\n",
    "    \"\"\", element)"
   ]
  },
  {
   "cell_type": "raw",
   "id": "4e911da8",
   "metadata": {
    "ExecuteTime": {
     "end_time": "2022-09-03T05:17:44.809440Z",
     "start_time": "2022-09-03T05:17:44.792381Z"
    }
   },
   "source": [
    "get_text_excluding_children(driver, Share_List[1])"
   ]
  }
 ],
 "metadata": {
  "kernelspec": {
   "display_name": "Python 3 (ipykernel)",
   "language": "python",
   "name": "python3"
  },
  "language_info": {
   "codemirror_mode": {
    "name": "ipython",
    "version": 3
   },
   "file_extension": ".py",
   "mimetype": "text/x-python",
   "name": "python",
   "nbconvert_exporter": "python",
   "pygments_lexer": "ipython3",
   "version": "3.9.12"
  },
  "toc": {
   "base_numbering": 1,
   "nav_menu": {},
   "number_sections": true,
   "sideBar": true,
   "skip_h1_title": false,
   "title_cell": "Table of Contents",
   "title_sidebar": "Contents",
   "toc_cell": false,
   "toc_position": {},
   "toc_section_display": true,
   "toc_window_display": false
  }
 },
 "nbformat": 4,
 "nbformat_minor": 5
}
