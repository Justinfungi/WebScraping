{
 "cells": [
  {
   "cell_type": "code",
   "execution_count": 89,
   "id": "a99a7f55",
   "metadata": {
    "ExecuteTime": {
     "end_time": "2022-09-02T02:22:27.807962Z",
     "start_time": "2022-09-02T02:22:27.800788Z"
    }
   },
   "outputs": [],
   "source": [
    "from selenium import webdriver\n",
    "from selenium.webdriver.common.by import By\n",
    "from selenium.webdriver.chrome.options import Options\n",
    "from selenium.webdriver.common.keys import Keys\n",
    "from selenium.webdriver.support import expected_conditions as EC\n",
    "from selenium.webdriver.support.wait import WebDriverWait\n",
    "import time"
   ]
  },
  {
   "cell_type": "code",
   "execution_count": 90,
   "id": "1edbc3ff",
   "metadata": {
    "ExecuteTime": {
     "end_time": "2022-09-02T02:22:31.700732Z",
     "start_time": "2022-09-02T02:22:27.812073Z"
    }
   },
   "outputs": [
    {
     "name": "stderr",
     "output_type": "stream",
     "text": [
      "/tmp/ipykernel_38319/352963608.py:6: DeprecationWarning: executable_path has been deprecated, please pass in a Service object\n",
      "  driver = webdriver.Chrome(executable_path=executable, options=chrome_options)\n"
     ]
    }
   ],
   "source": [
    "chrome_options = Options()\n",
    "chrome_options.headless=False\n",
    "\n",
    "executable= \"/home/fish/Documents/WebScraping/driver/chromedriver_ubuntu\"\n",
    "\n",
    "driver = webdriver.Chrome(executable_path=executable, options=chrome_options)\n",
    "\n",
    "url=\"https://connecthkuhk-my.sharepoint.com/personal/fung0311_connect_hku_hk/_layouts/15/onedrive.aspx?isAscending=false&id=%2Fpersonal%2Ffung0311%5Fconnect%5Fhku%5Fhk%2FDocuments%2FShare&sortField=Modified\"\n",
    "driver.get(url)"
   ]
  },
  {
   "cell_type": "code",
   "execution_count": 91,
   "id": "c1a44e3b",
   "metadata": {
    "ExecuteTime": {
     "end_time": "2022-09-02T02:22:33.088938Z",
     "start_time": "2022-09-02T02:22:31.706113Z"
    }
   },
   "outputs": [],
   "source": [
    "# enter acc and psw\n",
    "username= WebDriverWait(driver, 10)\\\n",
    "          .until(EC.element_to_be_clickable\n",
    "                 ((By.CSS_SELECTOR, \"input[name='loginfmt']\"))\n",
    "                )\n",
    "\n",
    "username.clear()\n",
    "username.send_keys(\"\")\n"
   ]
  },
  {
   "cell_type": "code",
   "execution_count": 92,
   "id": "37af46be",
   "metadata": {
    "ExecuteTime": {
     "end_time": "2022-09-02T02:22:33.269109Z",
     "start_time": "2022-09-02T02:22:33.093349Z"
    }
   },
   "outputs": [],
   "source": [
    "# submit pressing the button\n",
    "button = WebDriverWait(driver, 2)\\\n",
    "         .until(EC.element_to_be_clickable\n",
    "                ((By.CSS_SELECTOR, \"input[type='submit']\"))\n",
    "               ).click()"
   ]
  },
  {
   "cell_type": "code",
   "execution_count": 93,
   "id": "e417c7fa",
   "metadata": {
    "ExecuteTime": {
     "end_time": "2022-09-02T02:22:39.122770Z",
     "start_time": "2022-09-02T02:22:33.273010Z"
    }
   },
   "outputs": [],
   "source": [
    "time.sleep(4)\n",
    "# enter psw\n",
    "username= WebDriverWait(driver, 10)\\\n",
    "          .until(EC.element_to_be_clickable\n",
    "                 ((By.CSS_SELECTOR, \"input[name='Password']\"))\n",
    "                )\n",
    "\n",
    "username.clear()\n",
    "username.send_keys(\"\")\n",
    "button = WebDriverWait(driver, 2)\\\n",
    "         .until(EC.element_to_be_clickable\n",
    "                ((By.CSS_SELECTOR, \"span[class='submit']\"))\n",
    "               ).click()"
   ]
  },
  {
   "cell_type": "code",
   "execution_count": 94,
   "id": "a12f00e7",
   "metadata": {
    "ExecuteTime": {
     "end_time": "2022-09-02T02:22:46.304682Z",
     "start_time": "2022-09-02T02:22:39.127050Z"
    }
   },
   "outputs": [],
   "source": [
    "button = WebDriverWait(driver, 2)\\\n",
    "         .until(EC.element_to_be_clickable\n",
    "                ((By.CSS_SELECTOR, \"input[id='idSIButton9']\"))\n",
    "               ).click()"
   ]
  },
  {
   "cell_type": "code",
   "execution_count": 95,
   "id": "4e23fca2",
   "metadata": {
    "ExecuteTime": {
     "end_time": "2022-09-02T02:22:46.352376Z",
     "start_time": "2022-09-02T02:22:46.309391Z"
    }
   },
   "outputs": [
    {
     "name": "stdout",
     "output_type": "stream",
     "text": [
      "7\n"
     ]
    }
   ],
   "source": [
    "Share_List = driver.find_elements(\"xpath\",\"//button[@role='link']\")\n",
    "print(len(Share_List))"
   ]
  },
  {
   "cell_type": "code",
   "execution_count": 96,
   "id": "eec09a41",
   "metadata": {
    "ExecuteTime": {
     "end_time": "2022-09-02T02:22:46.398822Z",
     "start_time": "2022-09-02T02:22:46.358615Z"
    }
   },
   "outputs": [
    {
     "data": {
      "text/plain": [
       "'最优化理论与算法 (陈宝林) (z-lib.org).pdf'"
      ]
     },
     "execution_count": 96,
     "metadata": {},
     "output_type": "execute_result"
    }
   ],
   "source": [
    "Share_List[0].get_attribute(\"innerHTML\")"
   ]
  },
  {
   "cell_type": "code",
   "execution_count": 97,
   "id": "eadf4bf9",
   "metadata": {
    "ExecuteTime": {
     "end_time": "2022-09-02T02:22:46.446664Z",
     "start_time": "2022-09-02T02:22:46.405729Z"
    }
   },
   "outputs": [
    {
     "data": {
      "text/plain": [
       "'最优化理论与算法 (陈宝林) (z-lib.org).pdf'"
      ]
     },
     "execution_count": 97,
     "metadata": {},
     "output_type": "execute_result"
    }
   ],
   "source": [
    "Share_List[0].text"
   ]
  },
  {
   "cell_type": "code",
   "execution_count": 98,
   "id": "aa99a4ca",
   "metadata": {
    "ExecuteTime": {
     "end_time": "2022-09-02T02:22:47.266396Z",
     "start_time": "2022-09-02T02:22:46.723560Z"
    }
   },
   "outputs": [
    {
     "data": {
      "text/plain": [
       "['最优化理论与算法 (陈宝林) (z-lib.org).pdf',\n",
       " 'Linear and Nonlinear Programming, 4th Edition_ International Series in Operations Research & Management Science ( PDFDrive ).pdf',\n",
       " 'optreference.pdf',\n",
       " 'Syllabus.pdf',\n",
       " 'part I.pdf',\n",
       " '1-Introduction.pdf',\n",
       " 'Python 3网络爬虫开发实战 (崔庆才) (z-lib.org).pdf']"
      ]
     },
     "execution_count": 98,
     "metadata": {},
     "output_type": "execute_result"
    }
   ],
   "source": [
    "share_list_names=[]\n",
    "for i in Share_List:\n",
    "    share_list_names.append(i.text)\n",
    "    \n",
    "share_list_names"
   ]
  },
  {
   "cell_type": "code",
   "execution_count": 99,
   "id": "9ab31882",
   "metadata": {
    "ExecuteTime": {
     "end_time": "2022-09-02T02:22:47.266396Z",
     "start_time": "2022-09-02T02:22:46.723560Z"
    },
    "scrolled": true
   },
   "outputs": [
    {
     "data": {
      "text/plain": [
       "['1-Introduction.pdf',\n",
       " 'Linear and Nonlinear Programming, 4th Edition_ International Series in Operations Research & Management Science ( PDFDrive ).pdf',\n",
       " 'optreference.pdf',\n",
       " 'Python 3网络爬虫开发实战 (崔庆才) (z-lib.org).pdf',\n",
       " 'Syllabus.pdf',\n",
       " 'selenium-tutorial.pdf',\n",
       " 'part I.pdf',\n",
       " '最优化理论与算法 (陈宝林) (z-lib.org).pdf']"
      ]
     },
     "execution_count": 99,
     "metadata": {},
     "output_type": "execute_result"
    }
   ],
   "source": [
    "import os\n",
    "entries = os.listdir('/home/fish/Share/')\n",
    "entries"
   ]
  },
  {
   "cell_type": "code",
   "execution_count": 100,
   "id": "082cc49e",
   "metadata": {
    "ExecuteTime": {
     "end_time": "2022-09-02T02:22:47.266396Z",
     "start_time": "2022-09-02T02:22:46.723560Z"
    }
   },
   "outputs": [],
   "source": [
    "button = WebDriverWait(driver, 2)\\\n",
    "         .until(EC.element_to_be_clickable\n",
    "                ((By.CSS_SELECTOR, \"button[name='Upload']\"))\n",
    "               ).click()\n",
    "button = WebDriverWait(driver, 2)\\\n",
    "         .until(EC.element_to_be_clickable\n",
    "                ((By.CSS_SELECTOR, \"button[name='Files']\"))\n",
    "               ).click()"
   ]
  },
  {
   "cell_type": "raw",
   "id": "10eb7813",
   "metadata": {},
   "source": [
    "for i in entries:\n",
    "    if i not in share_list_names:\n",
    "        "
   ]
  },
  {
   "cell_type": "raw",
   "id": "ad2f2104",
   "metadata": {
    "ExecuteTime": {
     "end_time": "2022-09-02T02:22:47.266396Z",
     "start_time": "2022-09-02T02:22:46.723560Z"
    }
   },
   "source": [
    "def get_text_excluding_children(driver, element):\n",
    "    return driver.execute_script(\"\"\"\n",
    "    return jQuery(arguments[0]).contents().filter(function() {\n",
    "        return this.nodeType == Node.TEXT_NODE;\n",
    "    }).text();\n",
    "    \"\"\", element)"
   ]
  },
  {
   "cell_type": "raw",
   "id": "403e8a31",
   "metadata": {
    "ExecuteTime": {
     "end_time": "2022-09-02T02:22:47.266396Z",
     "start_time": "2022-09-02T02:22:46.723560Z"
    }
   },
   "source": [
    "get_text_excluding_children(driver, Share_List[1])"
   ]
  }
 ],
 "metadata": {
  "kernelspec": {
   "display_name": "Python 3 (ipykernel)",
   "language": "python",
   "name": "python3"
  },
  "language_info": {
   "codemirror_mode": {
    "name": "ipython",
    "version": 3
   },
   "file_extension": ".py",
   "mimetype": "text/x-python",
   "name": "python",
   "nbconvert_exporter": "python",
   "pygments_lexer": "ipython3",
   "version": "3.9.12"
  },
  "toc": {
   "base_numbering": 1,
   "nav_menu": {},
   "number_sections": true,
   "sideBar": true,
   "skip_h1_title": false,
   "title_cell": "Table of Contents",
   "title_sidebar": "Contents",
   "toc_cell": false,
   "toc_position": {},
   "toc_section_display": true,
   "toc_window_display": false
  }
 },
 "nbformat": 4,
 "nbformat_minor": 5
}
