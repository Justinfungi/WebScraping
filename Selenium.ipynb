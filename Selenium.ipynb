{
 "cells": [
  {
   "cell_type": "markdown",
   "id": "44fac2ab",
   "metadata": {
    "ExecuteTime": {
     "end_time": "2022-08-28T03:44:00.644206Z",
     "start_time": "2022-08-28T03:44:00.641377Z"
    }
   },
   "source": [
    "# Library"
   ]
  },
  {
   "cell_type": "code",
   "execution_count": 3,
   "id": "8a17e1c9",
   "metadata": {
    "ExecuteTime": {
     "end_time": "2022-08-28T03:45:49.580692Z",
     "start_time": "2022-08-28T03:45:49.540868Z"
    }
   },
   "outputs": [],
   "source": [
    "import os\n",
    "from selenium import webdriver"
   ]
  },
  {
   "cell_type": "code",
   "execution_count": 6,
   "id": "b179334c",
   "metadata": {
    "ExecuteTime": {
     "end_time": "2022-08-28T03:58:22.975242Z",
     "start_time": "2022-08-28T03:58:09.934217Z"
    }
   },
   "outputs": [],
   "source": [
    "# get started of browser\n",
    "driver= webdriver.Chrome('/home/fish/Documents/WebScraping/chromedriver_ubuntu')\n",
    "website = \"https://www.adamchoi.co.uk/overs/detailed\"\n",
    "driver.get(website)\n",
    "driver.implicitly_wait(3)"
   ]
  },
  {
   "cell_type": "code",
   "execution_count": 7,
   "id": "0f426768",
   "metadata": {
    "ExecuteTime": {
     "end_time": "2022-08-28T03:58:23.035650Z",
     "start_time": "2022-08-28T03:58:22.977125Z"
    }
   },
   "outputs": [],
   "source": [
    "driver.quit()"
   ]
  }
 ],
 "metadata": {
  "kernelspec": {
   "display_name": "Python 3 (ipykernel)",
   "language": "python",
   "name": "python3"
  },
  "language_info": {
   "codemirror_mode": {
    "name": "ipython",
    "version": 3
   },
   "file_extension": ".py",
   "mimetype": "text/x-python",
   "name": "python",
   "nbconvert_exporter": "python",
   "pygments_lexer": "ipython3",
   "version": "3.9.7"
  },
  "toc": {
   "base_numbering": 1,
   "nav_menu": {},
   "number_sections": true,
   "sideBar": true,
   "skip_h1_title": false,
   "title_cell": "Table of Contents",
   "title_sidebar": "Contents",
   "toc_cell": false,
   "toc_position": {},
   "toc_section_display": true,
   "toc_window_display": false
  }
 },
 "nbformat": 4,
 "nbformat_minor": 5
}
