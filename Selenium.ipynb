{
 "cells": [
  {
   "cell_type": "code",
   "execution_count": 18,
   "id": "8a17e1c9",
   "metadata": {
    "ExecuteTime": {
     "end_time": "2022-07-02T14:35:42.487802Z",
     "start_time": "2022-07-02T14:35:42.485175Z"
    }
   },
   "outputs": [],
   "source": [
    "import os\n",
    "from selenium import webdriver\n"
   ]
  },
  {
   "cell_type": "code",
   "execution_count": 19,
   "id": "b179334c",
   "metadata": {
    "ExecuteTime": {
     "end_time": "2022-07-02T14:35:51.694406Z",
     "start_time": "2022-07-02T14:35:42.490375Z"
    }
   },
   "outputs": [
    {
     "name": "stderr",
     "output_type": "stream",
     "text": [
      "/var/folders/nc/kxrby6g55vsbld_55_tt48hw0000gn/T/ipykernel_30565/2743900420.py:1: DeprecationWarning: executable_path has been deprecated, please pass in a Service object\n",
      "  driver= webdriver.Chrome('/Users/xiaokeai/Documents/Justin_AI/DM_MAC_AI/AI/Basic/chromedriver')\n"
     ]
    }
   ],
   "source": [
    "# get started of browser\n",
    "driver= webdriver.Chrome('/Users/xiaokeai/Documents/Justin_AI/DM_MAC_AI/AI/Basic/chromedriver')\n",
    "driver.get(\"https://www.youtube.com/\")\n",
    "driver.implicitly_wait(3)"
   ]
  },
  {
   "cell_type": "code",
   "execution_count": 20,
   "id": "7997ef63",
   "metadata": {
    "ExecuteTime": {
     "end_time": "2022-07-02T14:35:51.858103Z",
     "start_time": "2022-07-02T14:35:51.696710Z"
    }
   },
   "outputs": [],
   "source": [
    "# myele = driver.find_element_by_id(\"center\") changed\n",
    "# same as tag\n",
    "myele= driver.find_element(\"id\", \"center\")\n",
    "myele.click()"
   ]
  },
  {
   "cell_type": "markdown",
   "id": "227c3666",
   "metadata": {},
   "source": [
    "# Selenium project 1"
   ]
  },
  {
   "cell_type": "code",
   "execution_count": null,
   "id": "0f426768",
   "metadata": {},
   "outputs": [],
   "source": []
  }
 ],
 "metadata": {
  "kernelspec": {
   "display_name": "Python 3 (ipykernel)",
   "language": "python",
   "name": "python3"
  },
  "language_info": {
   "codemirror_mode": {
    "name": "ipython",
    "version": 3
   },
   "file_extension": ".py",
   "mimetype": "text/x-python",
   "name": "python",
   "nbconvert_exporter": "python",
   "pygments_lexer": "ipython3",
   "version": "3.9.7"
  },
  "toc": {
   "base_numbering": 1,
   "nav_menu": {},
   "number_sections": true,
   "sideBar": true,
   "skip_h1_title": false,
   "title_cell": "Table of Contents",
   "title_sidebar": "Contents",
   "toc_cell": false,
   "toc_position": {},
   "toc_section_display": true,
   "toc_window_display": false
  }
 },
 "nbformat": 4,
 "nbformat_minor": 5
}
