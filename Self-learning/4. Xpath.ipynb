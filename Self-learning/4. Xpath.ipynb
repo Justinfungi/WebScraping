{
 "cells": [
  {
   "cell_type": "code",
   "execution_count": 57,
   "id": "0da5cd51",
   "metadata": {
    "ExecuteTime": {
     "end_time": "2022-08-28T05:37:36.015006Z",
     "start_time": "2022-08-28T05:37:36.011734Z"
    }
   },
   "outputs": [],
   "source": [
    "from lxml import etree"
   ]
  },
  {
   "cell_type": "markdown",
   "id": "fa7960a1",
   "metadata": {
    "ExecuteTime": {
     "end_time": "2022-08-28T04:58:55.510193Z",
     "start_time": "2022-08-28T04:58:55.506589Z"
    }
   },
   "source": [
    "# Xpath "
   ]
  },
  {
   "cell_type": "markdown",
   "id": "6325d5ae",
   "metadata": {
    "ExecuteTime": {
     "end_time": "2022-08-28T04:59:03.504251Z",
     "start_time": "2022-08-28T04:59:03.501447Z"
    }
   },
   "source": [
    "## local"
   ]
  },
  {
   "cell_type": "code",
   "execution_count": 66,
   "id": "244b91d8",
   "metadata": {
    "ExecuteTime": {
     "end_time": "2022-08-28T05:39:54.721847Z",
     "start_time": "2022-08-28T05:39:54.716443Z"
    }
   },
   "outputs": [],
   "source": [
    "local = \"Source Html/home.html\"\n",
    "tree = etree.parse(local)\n",
    "\n",
    "#strictly follow html open close tag"
   ]
  },
  {
   "cell_type": "raw",
   "id": "0fc8c9b9",
   "metadata": {},
   "source": [
    "## response.read().decode('utf-8')"
   ]
  },
  {
   "cell_type": "markdown",
   "id": "c2271c7f",
   "metadata": {},
   "source": [
    "### xpath(\"xpath\")   "
   ]
  },
  {
   "cell_type": "code",
   "execution_count": 59,
   "id": "82ef2948",
   "metadata": {
    "ExecuteTime": {
     "end_time": "2022-08-28T05:37:36.038881Z",
     "start_time": "2022-08-28T05:37:36.032017Z"
    },
    "scrolled": true
   },
   "outputs": [
    {
     "data": {
      "text/plain": [
       "[<Element p at 0x7fcf504d7f80>,\n",
       " <Element p at 0x7fcf504e27c0>,\n",
       " <Element p at 0x7fcf504e2900>,\n",
       " <Element p at 0x7fcf504e2ac0>,\n",
       " <Element p at 0x7fcf504e2bc0>,\n",
       " <Element p at 0x7fcf504e2b40>]"
      ]
     },
     "execution_count": 59,
     "metadata": {},
     "output_type": "execute_result"
    }
   ],
   "source": [
    "# all sons and gradsons\n",
    "tree.xpath(\"//p\")"
   ]
  },
  {
   "cell_type": "code",
   "execution_count": 60,
   "id": "a9e721ea",
   "metadata": {
    "ExecuteTime": {
     "end_time": "2022-08-28T05:37:36.048340Z",
     "start_time": "2022-08-28T05:37:36.040087Z"
    }
   },
   "outputs": [
    {
     "name": "stdout",
     "output_type": "stream",
     "text": [
      "[<Element li at 0x7fcf504d7c00>, <Element li at 0x7fcf504e2500>, <Element li at 0x7fcf504e2fc0>, <Element li at 0x7fcf504e2480>, <Element li at 0x7fcf504e2f80>]\n",
      "5\n"
     ]
    }
   ],
   "source": [
    "# by path\n",
    "li_list = tree.xpath(\"//body/section/ul/li\")\n",
    "print(li_list)\n",
    "print(len(li_list))"
   ]
  },
  {
   "cell_type": "code",
   "execution_count": 64,
   "id": "43d168f4",
   "metadata": {
    "ExecuteTime": {
     "end_time": "2022-08-28T05:38:09.413936Z",
     "start_time": "2022-08-28T05:38:09.408283Z"
    }
   },
   "outputs": [
    {
     "name": "stdout",
     "output_type": "stream",
     "text": [
      "['zdm home zdm home']\n",
      "1\n"
     ]
    }
   ],
   "source": [
    "# id and content\n",
    "li_list1 = tree.xpath('//body/ul/li[@id]/text()')\n",
    "print(li_list1)\n",
    "print(len(li_list1))"
   ]
  },
  {
   "cell_type": "code",
   "execution_count": 63,
   "id": "355a2295",
   "metadata": {
    "ExecuteTime": {
     "end_time": "2022-08-28T05:37:50.198790Z",
     "start_time": "2022-08-28T05:37:50.193033Z"
    }
   },
   "outputs": [
    {
     "name": "stdout",
     "output_type": "stream",
     "text": [
      "['happy']\n",
      "1\n"
     ]
    }
   ],
   "source": [
    "# class\n",
    "li_list1 = tree.xpath('//body/ul/li[@id]/@class')\n",
    "print(li_list1)\n",
    "print(len(li_list1))"
   ]
  },
  {
   "cell_type": "code",
   "execution_count": 71,
   "id": "90fe6a44",
   "metadata": {
    "ExecuteTime": {
     "end_time": "2022-08-28T05:41:14.056878Z",
     "start_time": "2022-08-28T05:41:14.052489Z"
    },
    "scrolled": true
   },
   "outputs": [
    {
     "name": "stdout",
     "output_type": "stream",
     "text": [
      "['zdm home zdm home', 'zdm home zdm home', 'zdm home zdm home']\n",
      "3\n",
      "['zdm home zdm home']\n",
      "1\n"
     ]
    }
   ],
   "source": [
    "# contain\n",
    "li_list1 = tree.xpath('//body/ul/li[contains(@id, \"z\")]/text()')\n",
    "print(li_list1)\n",
    "print(len(li_list1))\n",
    "li_list1 = tree.xpath('//body/ul/li[starts-with(@id, \"d\")]/text()')\n",
    "print(li_list1)\n",
    "print(len(li_list1))"
   ]
  },
  {
   "cell_type": "markdown",
   "id": "6cf1b813",
   "metadata": {},
   "source": [
    "## online"
   ]
  },
  {
   "cell_type": "code",
   "execution_count": 72,
   "id": "2ebb02ed",
   "metadata": {
    "ExecuteTime": {
     "end_time": "2022-08-28T09:14:26.082498Z",
     "start_time": "2022-08-28T09:14:26.076946Z"
    }
   },
   "outputs": [],
   "source": [
    "url = \"https://world.taobao.com/\"\n",
    "\n",
    "headers = {\n",
    "    \"User-Agent\": \"Mozilla/5.0 (Windows NT 10.0; Win64; x64) AppleWebKit/537.36 (KHTML, like Gecko) Chrome/71.0.3578.98 Safari/537.36\"\n",
    "}"
   ]
  },
  {
   "cell_type": "code",
   "execution_count": 73,
   "id": "da04a4ac",
   "metadata": {
    "ExecuteTime": {
     "end_time": "2022-08-28T09:15:25.523695Z",
     "start_time": "2022-08-28T09:15:25.518900Z"
    }
   },
   "outputs": [
    {
     "ename": "NameError",
     "evalue": "name 'urllib' is not defined",
     "output_type": "error",
     "traceback": [
      "\u001b[0;31m---------------------------------------------------------------------------\u001b[0m",
      "\u001b[0;31mNameError\u001b[0m                                 Traceback (most recent call last)",
      "\u001b[0;32m/tmp/ipykernel_17848/455481946.py\u001b[0m in \u001b[0;36m<module>\u001b[0;34m\u001b[0m\n\u001b[0;32m----> 1\u001b[0;31m \u001b[0mrequest\u001b[0m \u001b[0;34m=\u001b[0m \u001b[0murllib\u001b[0m\u001b[0;34m\u001b[0m\u001b[0;34m\u001b[0m\u001b[0m\n\u001b[0m",
      "\u001b[0;31mNameError\u001b[0m: name 'urllib' is not defined"
     ]
    }
   ],
   "source": [
    "tree = etree.HTML(url)"
   ]
  }
 ],
 "metadata": {
  "kernelspec": {
   "display_name": "Python 3 (ipykernel)",
   "language": "python",
   "name": "python3"
  },
  "language_info": {
   "codemirror_mode": {
    "name": "ipython",
    "version": 3
   },
   "file_extension": ".py",
   "mimetype": "text/x-python",
   "name": "python",
   "nbconvert_exporter": "python",
   "pygments_lexer": "ipython3",
   "version": "3.9.12"
  },
  "toc": {
   "base_numbering": 1,
   "nav_menu": {},
   "number_sections": true,
   "sideBar": true,
   "skip_h1_title": false,
   "title_cell": "Table of Contents",
   "title_sidebar": "Contents",
   "toc_cell": false,
   "toc_position": {},
   "toc_section_display": true,
   "toc_window_display": false
  }
 },
 "nbformat": 4,
 "nbformat_minor": 5
}
